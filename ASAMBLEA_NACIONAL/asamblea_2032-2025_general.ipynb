{
 "cells": [
  {
   "cell_type": "markdown",
   "metadata": {},
   "source": [
    "## <center>Código para visualización de datos del dataset</center>\n",
    "---\n",
    "##### Gráficos generados mediante ***[python/plotly](https://plotly.com/python/)*** \n",
    "###### Modifique para generar su *propia* visualización"
   ]
  },
  {
   "cell_type": "code",
   "execution_count": 20,
   "metadata": {},
   "outputs": [],
   "source": [
    "#pip install plotly\n",
    "#pip install pandas"
   ]
  },
  {
   "cell_type": "code",
   "execution_count": 19,
   "metadata": {},
   "outputs": [],
   "source": [
    "import pandas as pd\n",
    "\n",
    "# your path download file\n",
    "path='../../DATASETS/ASAMBLEA_NACIONAL/ASAMBLEA_NACIONAL_2023-2025/PUBLIC/ASAMBLEISTAS.csv' \n",
    "asambleistas = pd.read_csv(path, sep=';', index_col=0)"
   ]
  },
  {
   "cell_type": "code",
   "execution_count": 15,
   "metadata": {},
   "outputs": [
    {
     "data": {
      "application/vnd.plotly.v1+json": {
       "config": {
        "plotlyServerURL": "https://plot.ly"
       },
       "data": [
        {
         "customdata": [
          [
           "Valentina Centeno Arteaga",
           "Acción Democratica Nacional ADN",
           "Asambleísta Nacional",
           "FEMENINO",
           27,
           "MESTIZO/A"
          ],
          [
           "Marjorie Lorena Rosado Sánchez",
           "Acción Democratica Nacional ADN",
           "Asambleísta por Guayas",
           "FEMENINO",
           42,
           "MESTIZO/A"
          ],
          [
           "Diego Fernando Matovelle Vera",
           "Acción Democratica Nacional ADN",
           "Asambleísta por Azuay",
           "MASCULINO",
           41,
           "MESTIZO/A"
          ],
          [
           "Arturo Germán Moreno Encalada",
           "Acción Democratica Nacional ADN",
           "Asambleísta Nacional",
           "MASCULINO",
           67,
           "MESTIZO/A"
          ],
          [
           "Francisco Andres Cevallos Macías",
           "Acción Democratica Nacional ADN",
           "Asambleísta por Guayas",
           "MASCULINO",
           32,
           "MESTIZO/A"
          ],
          [
           "Adrián Ernesto Castro Piedra",
           "Acción Democratica Nacional ADN",
           "Asambleísta por Azuay",
           "MASCULINO",
           43,
           "MESTIZO/A"
          ],
          [
           "Karina Del Carmen Subía Dávalos",
           "Acción Democratica Nacional ADN",
           "Asambleísta Nacional",
           "FEMENINO",
           45,
           "MESTIZO/A"
          ],
          [
           "Johnny Alfredo Lavayen Tamayo",
           "Acción Democratica Nacional ADN",
           "Asambleísta por EEUU - Canadá",
           "MASCULINO",
           0,
           "NINGUNO"
          ],
          [
           "Erwin Eduardo Mendoza Palma",
           "Acción Democratica Nacional ADN",
           "Asambleísta por Los Ríos",
           "MASCULINO",
           57,
           "MESTIZO/A"
          ],
          [
           "César Umajinga Guamán",
           "Acción Democratica Nacional ADN",
           "Asambleísta por Cotopaxi",
           "MASCULINO",
           55,
           "INDIGENA"
          ],
          [
           "Eckenner Reader Recalde Álava",
           "Acción Democratica Nacional ADN",
           "Asambleísta por Pichincha",
           "MASCULINO",
           58,
           "MESTIZO/A"
          ],
          [
           "Jorge Luis Guevara Benavidez",
           "Acción Democratica Nacional ADN",
           "Asambleísta por Loja",
           "MASCULINO",
           36,
           "MESTIZO/A"
          ],
          [
           "Fausto Armando Fernández Rosales",
           "Acción Democratica Nacional ADN",
           "Asambleísta por Pastaza",
           "MASCULINO",
           62,
           "MESTIZO/A"
          ],
          [
           "Nathaly Estefania Farinango Delgado",
           "Acción Democratica Nacional ADN",
           "Asambleísta por Pichincha",
           "FEMENINO",
           24,
           "MESTIZO/A"
          ],
          [
           "Nicole Anahis Saca Baldeón",
           "Acción Democratica Nacional ADN",
           "Asambleísta por Guayas",
           "FEMENINO",
           25,
           "MESTIZO/A"
          ],
          [
           "Jadira Del Rosario Bayas Uriarte",
           "Acción Democratica Nacional ADN",
           "Asambleísta por Santo Domingo de los Tsáchilas",
           "FEMENINO",
           44,
           "MESTIZO/A"
          ],
          [
           "Inés Margarita Alarcón Bueno",
           "Acción Democratica Nacional ADN",
           "Asambleísta por Pichincha",
           "FEMENINO",
           36,
           "MESTIZO/A"
          ],
          [
           "Jonathan Emanuel Parra Villacis",
           "Acción Democratica Nacional ADN",
           "Asambleísta por Guayas",
           "MASCULINO",
           36,
           "MESTIZO/A"
          ],
          [
           "Steven Leonardo Ordoñez Bravo",
           "Acción Democratica Nacional ADN",
           "Asambleísta por El Oro",
           "MASCULINO",
           31,
           "MESTIZO/A"
          ],
          [
           "Simón Bolívar Mieles Pinargote",
           "Acción Democratica Nacional ADN",
           "Asambleísta por Orellana",
           "MASCULINO",
           55,
           "MESTIZO/A"
          ],
          [
           "María Fernanda Araujo Noboa",
           "Acción Democratica Nacional ADN",
           "Asambleísta por Chimborazo",
           "FEMENINO",
           44,
           "MESTIZO/A"
          ],
          [
           "Payar Celestino Wisum Saant",
           "Acción Democratica Nacional ADN",
           "Asambleísta por Morona Santiago",
           "MASCULINO",
           51,
           "MESTIZO/A"
          ],
          [
           "Patricio Benjamín Cisneros Granizo",
           "Acción Democratica Nacional ADN",
           "Asambleísta por Santa Elena",
           "MASCULINO",
           61,
           "MESTIZO/A"
          ],
          [
           "Manuel Oswal Bohórquez Tapia",
           "Acción Democratica Nacional ADN",
           "Asambleísta por Pichincha",
           "MASCULINO",
           0,
           "MESTIZO/A"
          ],
          [
           "Luis Ricardo Alvarado Campi",
           "Acción Democratica Nacional ADN",
           "Asambleísta por Guayas",
           "MASCULINO",
           53,
           "MESTIZO/A"
          ],
          [
           "Ramiro Vela Jiménez",
           "Acción Democratica Nacional ADN",
           "Asambleísta por Tungurahua",
           "MASCULINO",
           51,
           "MESTIZO/A"
          ]
         ],
         "hovertemplate": "<b>%{customdata[0]}</b><br>Partido: %{customdata[1]}<br>Provincia: %{customdata[2]}<br>Género: %{customdata[3]}<br>Edad: %{customdata[4]}<br>Etnia: %{customdata[5]}<br><extra></extra>",
         "legendgroup": "Acción Democratica Nacional ADN",
         "marker": {
          "color": "#92258E",
          "opacity": 0.7,
          "size": 28,
          "symbol": "circle"
         },
         "mode": "markers+text",
         "name": "Acción Democratica Nacional ADN",
         "r": [
          10,
          9,
          8,
          7,
          6,
          10,
          9,
          8,
          7,
          6,
          10,
          9,
          8,
          10,
          7,
          9,
          6,
          8,
          10,
          9,
          7,
          10,
          6,
          8,
          9,
          7
         ],
         "showlegend": true,
         "subplot": "polar",
         "text": [
          "V",
          "M",
          "D",
          "A",
          "F",
          "A",
          "K",
          "J",
          "E",
          "C",
          "E",
          "J",
          "F",
          "N",
          "N",
          "J",
          "I",
          "J",
          "S",
          "S",
          "M",
          "P",
          "P",
          "M",
          "L",
          "R"
         ],
         "textfont": {
          "size": 12
         },
         "textposition": "middle center",
         "theta": [
          3.5294117647058822,
          3.870967741935484,
          4.444444444444445,
          5,
          5.714285714285714,
          10.588235294117649,
          11.612903225806452,
          13.333333333333334,
          15,
          17.142857142857142,
          17.647058823529413,
          19.35483870967742,
          22.22222222222222,
          24.705882352941178,
          25,
          27.096774193548388,
          28.57142857142857,
          31.11111111111111,
          31.764705882352946,
          34.83870967741936,
          35,
          38.82352941176471,
          40,
          40,
          42.58064516129033,
          45
         ],
         "type": "scatterpolar"
        },
        {
         "customdata": [
          [
           "Lucia Anabelle Posso Naranjo",
           "Avanza",
           "Asambleísta por Imbabura",
           "FEMENINO",
           43,
           "MESTIZO/A"
          ],
          [
           "Pedro Ramiro Velasco Erazo",
           "Avanza",
           "Asambleísta por Carchi",
           "MASCULINO",
           61,
           "MESTIZO/A"
          ]
         ],
         "hovertemplate": "<b>%{customdata[0]}</b><br>Partido: %{customdata[1]}<br>Provincia: %{customdata[2]}<br>Género: %{customdata[3]}<br>Edad: %{customdata[4]}<br>Etnia: %{customdata[5]}<br><extra></extra>",
         "legendgroup": "Avanza",
         "marker": {
          "color": "#41C1F0",
          "opacity": 0.7,
          "size": 28,
          "symbol": "circle"
         },
         "mode": "markers+text",
         "name": "Avanza",
         "r": [
          10,
          8
         ],
         "showlegend": true,
         "subplot": "polar",
         "text": [
          "L",
          "P"
         ],
         "textfont": {
          "size": 12
         },
         "textposition": "middle center",
         "theta": [
          45.88235294117648,
          48.888888888888886
         ],
         "type": "scatterpolar"
        },
        {
         "customdata": [
          [
           "Carlos Alberto Rodríguez Riofrío",
           "Claro que se puede",
           "Asambleísta por El Oro",
           "MASCULINO",
           30,
           "MESTIZO/A"
          ],
          [
           "César Arturo Ugsha Toaquiza",
           "Claro que se puede",
           "Asambleísta por Cotopaxi",
           "MASCULINO",
           38,
           "INDIGENA"
          ]
         ],
         "hovertemplate": "<b>%{customdata[0]}</b><br>Partido: %{customdata[1]}<br>Provincia: %{customdata[2]}<br>Género: %{customdata[3]}<br>Edad: %{customdata[4]}<br>Etnia: %{customdata[5]}<br><extra></extra>",
         "legendgroup": "Claro que se puede",
         "marker": {
          "color": "#FC0100",
          "opacity": 0.7,
          "size": 28,
          "symbol": "circle"
         },
         "mode": "markers+text",
         "name": "Claro que se puede",
         "r": [
          9,
          6
         ],
         "showlegend": true,
         "subplot": "polar",
         "text": [
          "C",
          "C"
         ],
         "textfont": {
          "size": 12
         },
         "textposition": "middle center",
         "theta": [
          50.322580645161295,
          51.42857142857143
         ],
         "type": "scatterpolar"
        },
        {
         "customdata": [
          [
           "Gissella Cecibel Molina Alvarez",
           "Gente Buena",
           "Asambleísta por Cotopaxi",
           "FEMENINO",
           37,
           "MONTUBIO/A"
          ],
          [
           "John Edison Polanco Lara",
           "Gente Buena",
           "Asambleísta por Esmeraldas",
           "MASCULINO",
           54,
           "MESTIZO/A"
          ],
          [
           "Hernán Patricio Zapata Rojas",
           "Gente Buena",
           "Asambleísta por Pichincha",
           "MASCULINO",
           47,
           "MESTIZO/A"
          ],
          [
           "Roberto Fernando Jaramillo Martínez",
           "Gente Buena",
           "Asambleísta por Imbabura",
           "MASCULINO",
           48,
           "MESTIZO/A"
          ],
          [
           "Sandra Sofía Sánchez Urgilés",
           "Gente Buena",
           "Asambleísta por Azuay",
           "FEMENINO",
           35,
           "MESTIZO/A"
          ],
          [
           "Adriana Denisse García Mejía",
           "Gente Buena",
           "Asambleísta Nacional",
           "FEMENINO",
           41,
           "MESTIZO/A"
          ],
          [
           "María Fernanda Jiménez Vásquez",
           "Gente Buena",
           "Asambleísta por Guayas",
           "FEMENINO",
           34,
           "MESTIZO/A"
          ],
          [
           "María Teresa Del Carmen Pasquel Andrade",
           "Gente Buena",
           "Asambleísta por Pichincha",
           "FEMENINO",
           64,
           "MESTIZO/A"
          ],
          [
           "María Mercedes Erbs Estupiñán",
           "Gente Buena",
           "Asambleísta por Manabí",
           "FEMENINO",
           51,
           "MESTIZO/A"
          ]
         ],
         "hovertemplate": "<b>%{customdata[0]}</b><br>Partido: %{customdata[1]}<br>Provincia: %{customdata[2]}<br>Género: %{customdata[3]}<br>Edad: %{customdata[4]}<br>Etnia: %{customdata[5]}<br><extra></extra>",
         "legendgroup": "Gente Buena",
         "marker": {
          "color": "#F4F4F5",
          "opacity": 0.7,
          "size": 28,
          "symbol": "circle"
         },
         "mode": "markers+text",
         "name": "Gente Buena",
         "r": [
          10,
          7,
          8,
          9,
          10,
          6,
          7,
          9,
          8
         ],
         "showlegend": true,
         "subplot": "polar",
         "text": [
          "G",
          "J",
          "H",
          "R",
          "S",
          "A",
          "M",
          "M",
          "M"
         ],
         "textfont": {
          "size": 12
         },
         "textposition": "middle center",
         "theta": [
          52.941176470588246,
          55,
          57.77777777777777,
          58.06451612903226,
          60.000000000000014,
          62.85714285714286,
          65,
          65.80645161290323,
          66.66666666666666
         ],
         "type": "scatterpolar"
        },
        {
         "customdata": [
          [
           "Rafael Antonio Dávila Egüez",
           "Independientes",
           "Asambleísta por Loja",
           "MASCULINO",
           64,
           "MESTIZO/A"
          ],
          [
           "Henry Saúl Bósquez Villena",
           "Independientes",
           "Asambleísta por Bolívar",
           "MASCULINO",
           49,
           "MESTIZO/A"
          ],
          [
           "Guido Gilberto Vargas Ocaña",
           "Independientes",
           "Asambleísta por Sucumbíos",
           "MASCULINO",
           52,
           "MESTIZO/A"
          ],
          [
           "Milton Javier Aguas Flores",
           "Independientes",
           "Asambleísta por Galápagos",
           "MASCULINO",
           42,
           "MESTIZO/A"
          ],
          [
           "Xavier Andrés Jurado Bedrán",
           "Independientes",
           "Asambleísta por Guayas",
           "MASCULINO",
           41,
           "MESTIZO/A"
          ],
          [
           "Lucía Lizbeth Jaramillo Zurita",
           "Independientes",
           "Asambleísta Nacional",
           "FEMENINO",
           33,
           "MESTIZO/A"
          ],
          [
           "Ferdinan Arturo Álvarez Zambrano",
           "Independientes",
           "Asambleísta por Guayas",
           "MASCULINO",
           36,
           "MESTIZO/A"
          ]
         ],
         "hovertemplate": "<b>%{customdata[0]}</b><br>Partido: %{customdata[1]}<br>Provincia: %{customdata[2]}<br>Género: %{customdata[3]}<br>Edad: %{customdata[4]}<br>Etnia: %{customdata[5]}<br><extra></extra>",
         "legendgroup": "Independientes",
         "marker": {
          "color": "#7C7C7C",
          "opacity": 0.7,
          "size": 28,
          "symbol": "circle"
         },
         "mode": "markers+text",
         "name": "Independientes",
         "r": [
          10,
          9,
          10,
          6,
          7,
          8,
          10
         ],
         "showlegend": true,
         "subplot": "polar",
         "text": [
          "R",
          "H",
          "G",
          "M",
          "X",
          "L",
          "F"
         ],
         "textfont": {
          "size": 12
         },
         "textposition": "middle center",
         "theta": [
          67.05882352941178,
          73.5483870967742,
          74.11764705882355,
          74.28571428571429,
          75,
          75.55555555555554,
          81.17647058823532
         ],
         "type": "scatterpolar"
        },
        {
         "customdata": [
          [
           "Juan Carlos Camacho Dávila",
           "Movimiento Construye",
           "Asambleísta por Bolívar",
           "MASCULINO",
           63,
           "MESTIZO/A"
          ],
          [
           "Gabriel Humberto Bedón Álvarez",
           "Movimiento Construye",
           "Asambleísta por Pichincha",
           "MASCULINO",
           40,
           "MESTIZO/A"
          ],
          [
           "Jorge Enrique Chamba Cabanilla",
           "Movimiento Construye",
           "Asambleísta por Guayas",
           "MASCULINO",
           66,
           "MESTIZO/A"
          ],
          [
           "Paúl Fernando Buestan Carabajo",
           "Movimiento Construye",
           "Asambleísta por Cañar",
           "MASCULINO",
           33,
           "MESTIZO/A"
          ],
          [
           "Oscar Fabián Peña Toro",
           "Movimiento Construye",
           "Asambleísta por El Oro",
           "MASCULINO",
           44,
           "MESTIZO/A"
          ],
          [
           "Manuel Humberto Tapia Escalante",
           "Movimiento Construye",
           "Asambleísta por Loja",
           "MASCULINO",
           55,
           "MESTIZO/A"
          ],
          [
           "Juan Carlos Rosero Paz",
           "Movimiento Construye",
           "Asambleísta por Chimborazo",
           "MASCULINO",
           51,
           "MESTIZO/A"
          ],
          [
           "Amy Yajanua Gende Córdova",
           "Movimiento Construye",
           "Asambleísta por Santo Domingo de los Tsáchilas",
           "FEMENINO",
           25,
           "INDIGENA"
          ],
          [
           "Jorge Andrés Peñafiel Cedeño",
           "Movimiento Construye",
           "Asambleísta por Pichincha",
           "MASCULINO",
           40,
           "MESTIZO/A"
          ],
          [
           "Ana Mercedes Galarza Añazco",
           "Movimiento Construye",
           "Asambleísta por Tungurahua",
           "FEMENINO",
           34,
           "MESTIZO/A"
          ],
          [
           "Lourdes Nataly Morillo Solórzano",
           "Movimiento Construye",
           "Asambleísta Nacional",
           "FEMENINO",
           37,
           "MESTIZO/A"
          ],
          [
           "Salazar Cedeño Ingrid Catalina",
           "Movimiento Construye",
           "Asambleísta por Guayas",
           "FEMENINO",
           45,
           "MESTIZO/A"
          ],
          [
           "Andrea Yalu Rivadeneira Calderón",
           "Movimiento Construye",
           "Asambleísta por Zamora Chinchipe",
           "FEMENINO",
           37,
           "MESTIZO/A"
          ],
          [
           "Alexandra Andrea Castillo Campoverde",
           "Movimiento Construye",
           "Asambleísta por Pichincha",
           "FEMENINO",
           45,
           "MESTIZO/A"
          ],
          [
           "Jaime Moreno Felix",
           "Movimiento Construye",
           "Asambleísta Nacional",
           "MASCULINO",
           40,
           "MESTIZO/A"
          ],
          [
           "Viviana Jacqueline Zambrano González",
           "Movimiento Construye",
           "Asambleísta por Manabí",
           "FEMENINO",
           53,
           "MONTUBIO/A"
          ],
          [
           "Carla Magaly Cruz Zambrano",
           "Movimiento Construye",
           "Asambleísta por América Latina El Caribe y África",
           "FEMENINO",
           0,
           "NINGUNO"
          ],
          [
           "Camilo Aurelio Salinas Ochoa",
           "Movimiento Construye",
           "Asambleísta por Los Ríos",
           "MASCULINO",
           41,
           "MONTUBIO/A"
          ],
          [
           "Sandra Elizabeth Rueda Camacho",
           "Movimiento Construye",
           "Asambleísta por Napo",
           "FEMENINO",
           52,
           "MESTIZO/A"
          ]
         ],
         "hovertemplate": "<b>%{customdata[0]}</b><br>Partido: %{customdata[1]}<br>Provincia: %{customdata[2]}<br>Género: %{customdata[3]}<br>Edad: %{customdata[4]}<br>Etnia: %{customdata[5]}<br><extra></extra>",
         "legendgroup": "Movimiento Construye",
         "marker": {
          "color": "#0244B5",
          "opacity": 0.7,
          "size": 28,
          "symbol": "circle"
         },
         "mode": "markers+text",
         "name": "Movimiento Construye",
         "r": [
          9,
          8,
          7,
          6,
          10,
          9,
          8,
          7,
          10,
          9,
          6,
          8,
          10,
          9,
          7,
          6,
          10,
          8,
          9
         ],
         "showlegend": true,
         "subplot": "polar",
         "text": [
          "J",
          "G",
          "J",
          "P",
          "O",
          "M",
          "J",
          "A",
          "J",
          "A",
          "L",
          "S",
          "A",
          "A",
          "J",
          "V",
          "C",
          "C",
          "S"
         ],
         "textfont": {
          "size": 12
         },
         "textposition": "middle center",
         "theta": [
          81.29032258064518,
          84.44444444444443,
          85,
          85.71428571428572,
          88.23529411764709,
          89.03225806451616,
          93.33333333333331,
          95,
          95.29411764705884,
          96.77419354838712,
          97.14285714285715,
          102.2222222222222,
          102.35294117647062,
          104.5161290322581,
          105,
          108.57142857142858,
          109.4117647058824,
          111.11111111111109,
          112.25806451612908
         ],
         "type": "scatterpolar"
        },
        {
         "customdata": [
          [
           "Jaime Patricio Guevara Blaschke",
           "Movimientos Provinciales",
           "Asambleísta por Pastaza",
           "MASCULINO",
           59,
           "MESTIZO/A"
          ],
          [
           "Humberto Amado Chávez Angamarca",
           "Movimientos Provinciales",
           "Asambleísta por Sucumbíos",
           "MASCULINO",
           60,
           "MESTIZO/A"
          ]
         ],
         "hovertemplate": "<b>%{customdata[0]}</b><br>Partido: %{customdata[1]}<br>Provincia: %{customdata[2]}<br>Género: %{customdata[3]}<br>Edad: %{customdata[4]}<br>Etnia: %{customdata[5]}<br><extra></extra>",
         "legendgroup": "Movimientos Provinciales",
         "marker": {
          "color": "#8B7216",
          "opacity": 0.7,
          "size": 28,
          "symbol": "circle"
         },
         "mode": "markers+text",
         "name": "Movimientos Provinciales",
         "r": [
          7,
          10
         ],
         "showlegend": true,
         "subplot": "polar",
         "text": [
          "J",
          "H"
         ],
         "textfont": {
          "size": 12
         },
         "textposition": "middle center",
         "theta": [
          115,
          116.47058823529416
         ],
         "type": "scatterpolar"
        },
        {
         "customdata": [
          [
           "Fabiola Maribel Sanmartín Parra",
           "Pachakutik",
           "Asambleísta por Cañar",
           "FEMENINO",
           46,
           "MESTIZO/A"
          ],
          [
           "Carmen Yolanda Tiupul Urquizo",
           "Pachakutik",
           "Asambleísta por Chimborazo",
           "FEMENINO",
           38,
           "INDIGENA"
          ],
          [
           "Rosa Cecilia Baltazar Yucailla",
           "Pachakutik",
           "Asambleísta por Tungurahua",
           "FEMENINO",
           43,
           "INDIGENA"
          ],
          [
           "Luzmila Abad Morocho",
           "Pachakutik",
           "Asambleísta por Morona Santiago",
           "FEMENINO",
           45,
           "MESTIZO/A"
          ],
          [
           "Mariana Yumbay Yallico",
           "Pachakutik",
           "Asambleísta por Bolívar",
           "FEMENINO",
           51,
           "INDIGENA"
          ]
         ],
         "hovertemplate": "<b>%{customdata[0]}</b><br>Partido: %{customdata[1]}<br>Provincia: %{customdata[2]}<br>Género: %{customdata[3]}<br>Edad: %{customdata[4]}<br>Etnia: %{customdata[5]}<br><extra></extra>",
         "legendgroup": "Pachakutik",
         "marker": {
          "color": "#EE6D2A",
          "opacity": 0.7,
          "size": 28,
          "symbol": "circle"
         },
         "mode": "markers+text",
         "name": "Pachakutik",
         "r": [
          8,
          6,
          9,
          10,
          7
         ],
         "showlegend": true,
         "subplot": "polar",
         "text": [
          "F",
          "C",
          "R",
          "L",
          "M"
         ],
         "textfont": {
          "size": 12
         },
         "textposition": "middle center",
         "theta": [
          119.99999999999996,
          120,
          120.00000000000006,
          123.52941176470593,
          125
         ],
         "type": "scatterpolar"
        },
        {
         "customdata": [
          [
           "Samuel Elias Celleri Gómez",
           "Partido Social Cristiano",
           "Asambleísta por Esmeraldas",
           "MASCULINO",
           30,
           "MESTIZO/A"
          ],
          [
           "Otto Santiago Vera Palacios",
           "Partido Social Cristiano",
           "Asambleísta por Santa Elena",
           "MASCULINO",
           46,
           "MESTIZO/A"
          ],
          [
           "Jose Lenín Rogel Villacís",
           "Partido Social Cristiano",
           "Asambleísta por Galápagos",
           "MASCULINO",
           42,
           "MESTIZO/A"
          ],
          [
           "Jorge Hermel Álvarez Granda",
           "Partido Social Cristiano",
           "Asambleísta por El Oro",
           "MASCULINO",
           57,
           "MESTIZO/A"
          ],
          [
           "Vicente Giovanny Taiano Basante",
           "Partido Social Cristiano",
           "Asambleísta por Guayas",
           "MASCULINO",
           44,
           "MESTIZO/A"
          ],
          [
           "Henry Fabián Kronfle Kozhaya",
           "Partido Social Cristiano",
           "Asambleísta Nacional",
           "MASCULINO",
           52,
           "MESTIZO/A"
          ],
          [
           "Carlos Vera Mora",
           "Partido Social Cristiano",
           "Asambleísta por Manabí",
           "MASCULINO",
           46,
           "MONTUBIO/A"
          ],
          [
           "Edgar Geovanny Benítez Calva",
           "Partido Social Cristiano",
           "Asambleísta por Santo Domingo de los Tsáchilas",
           "MASCULINO",
           56,
           "MESTIZO/A"
          ],
          [
           "Johnny Enrique Terán Barragán",
           "Partido Social Cristiano",
           "Asambleísta por Los Ríos",
           "MASCULINO",
           30,
           "MESTIZO/A"
          ],
          [
           "Jaminton Enrique Intriago Alcívar",
           "Partido Social Cristiano",
           "Asambleísta por Manabí",
           "MASCULINO",
           52,
           "MESTIZO/A"
          ],
          [
           "Dallyana Marianela Passailaigue Manosalvas",
           "Partido Social Cristiano",
           "Asambleísta por Guayas",
           "FEMENINO",
           43,
           "MESTIZO/A"
          ],
          [
           "Esperanza Del Rocío Moreta Terán",
           "Partido Social Cristiano",
           "Asambleísta por Carchi",
           "FEMENINO",
           46,
           "MESTIZO/A"
          ],
          [
           "Nelly Zolanda Plúas Arias",
           "Partido Social Cristiano",
           "Asambleísta por Guayas",
           "FEMENINO",
           51,
           "MESTIZO/A"
          ],
          [
           "Roberto Carlos Cerda Tapuy",
           "Partido Social Cristiano",
           "Asambleísta por Napo",
           "MASCULINO",
           41,
           "INDIGENA"
          ],
          [
           "Jorge Enrique Acaiturri Villa Varas",
           "Partido Social Cristiano",
           "Asambleísta por Guayas",
           "MASCULINO",
           41,
           "BLANCO/A"
          ],
          [
           "Achi Sibri Audy Marcelo",
           "Partido Social Cristiano",
           "Asambleísta por Pichincha",
           "MASCULINO",
           56,
           "MESTIZO/A"
          ]
         ],
         "hovertemplate": "<b>%{customdata[0]}</b><br>Partido: %{customdata[1]}<br>Provincia: %{customdata[2]}<br>Género: %{customdata[3]}<br>Edad: %{customdata[4]}<br>Etnia: %{customdata[5]}<br><extra></extra>",
         "legendgroup": "Partido Social Cristiano",
         "marker": {
          "color": "#F4DD40",
          "opacity": 0.7,
          "size": 28,
          "symbol": "circle"
         },
         "mode": "markers+text",
         "name": "Partido Social Cristiano",
         "r": [
          9,
          8,
          10,
          6,
          7,
          9,
          10,
          8,
          6,
          9,
          10,
          7,
          8,
          9,
          10,
          6
         ],
         "showlegend": true,
         "subplot": "polar",
         "text": [
          "S",
          "O",
          "J",
          "J",
          "V",
          "H",
          "C",
          "E",
          "J",
          "J",
          "D",
          "E",
          "N",
          "R",
          "J",
          "A"
         ],
         "textfont": {
          "size": 12
         },
         "textposition": "middle center",
         "theta": [
          127.74193548387105,
          128.88888888888886,
          130.58823529411768,
          131.42857142857144,
          135,
          135.483870967742,
          137.64705882352945,
          137.77777777777774,
          142.85714285714286,
          143.22580645161298,
          144.70588235294122,
          145,
          146.66666666666663,
          150.96774193548396,
          151.76470588235298,
          154.28571428571428
         ],
         "type": "scatterpolar"
        },
        {
         "customdata": [
          [
           "Lucio Edwin Gutiérrez Borbúa",
           "Partido Sociedad Patriótica",
           "Asambleísta Nacional",
           "MASCULINO",
           67,
           "MESTIZO/A"
          ]
         ],
         "hovertemplate": "<b>%{customdata[0]}</b><br>Partido: %{customdata[1]}<br>Provincia: %{customdata[2]}<br>Género: %{customdata[3]}<br>Edad: %{customdata[4]}<br>Etnia: %{customdata[5]}<br><extra></extra>",
         "legendgroup": "Partido Sociedad Patriótica",
         "marker": {
          "color": "#358F50",
          "opacity": 0.7,
          "size": 28,
          "symbol": "circle"
         },
         "mode": "markers+text",
         "name": "Partido Sociedad Patriótica",
         "r": [
          7
         ],
         "showlegend": true,
         "subplot": "polar",
         "text": [
          "L"
         ],
         "textfont": {
          "size": 12
         },
         "textposition": "middle center",
         "theta": [
          155
         ],
         "type": "scatterpolar"
        },
        {
         "customdata": [
          [
           "Juan Pablo Molina Saldaña",
           "Revolución Ciudadana",
           "Asambleísta por Guayas",
           "MASCULINO",
           39,
           "MESTIZO/A"
          ],
          [
           "Lenin Daniel Barreto Zambrano",
           "Revolución Ciudadana",
           "Asambleísta por Manabí",
           "MASCULINO",
           39,
           "MESTIZO/A"
          ],
          [
           "José Vallejo",
           "Revolución Ciudadana",
           "Asambleísta por Carchi",
           "MASCULINO",
           53,
           "MESTIZO/A"
          ],
          [
           "Arisdely Paola Parrales Yagual",
           "Revolución Ciudadana",
           "Asambleísta por Santa Elena",
           "FEMENINO",
           36,
           "MESTIZO/A"
          ],
          [
           "Franklin Omar Samaniego Maigua",
           "Revolución Ciudadana",
           "Asambleísta por Pichincha",
           "MASCULINO",
           52,
           "MESTIZO/A"
          ],
          [
           "Fernando Enrique Cedeño Rivadeneira",
           "Revolución Ciudadana",
           "Asambleísta por Manabí",
           "MASCULINO",
           59,
           "MESTIZO/A"
          ],
          [
           "José Ernesto Maldonado Córdova",
           "Revolución Ciudadana",
           "Asambleísta por Imbabura",
           "MASCULINO",
           66,
           "MESTIZO/A"
          ],
          [
           "Leonardo Renato Berrezueta Carrión",
           "Revolución Ciudadana",
           "Asambleísta por Azuay",
           "MASCULINO",
           45,
           "MESTIZO/A"
          ],
          [
           "Héctor Guillermo Valladarez González",
           "Revolución Ciudadana",
           "Asambleísta por Zamora Chinchipe",
           "MASCULINO",
           50,
           "MESTIZO/A"
          ],
          [
           "Patricio Alberto Chávez Zavala",
           "Revolución Ciudadana",
           "Asambleísta por Pichincha",
           "MASCULINO",
           57,
           "MESTIZO/A"
          ],
          [
           "Alexandra Manuela Arce Plúas",
           "Revolución Ciudadana",
           "Asambleísta por Guayas",
           "FEMENINO",
           46,
           "MESTIZO/A"
          ],
          [
           "Ronal Eduardo González Valero",
           "Revolución Ciudadana",
           "Asambleísta por Los Ríos",
           "MASCULINO",
           52,
           "MESTIZO/A"
          ],
          [
           "Sixto Antonio Parra Tovar",
           "Revolución Ciudadana",
           "Asambleísta por Los Ríos",
           "MASCULINO",
           43,
           "MESTIZO/A"
          ],
          [
           "Esther Adelina Cuesta Santana",
           "Revolución Ciudadana",
           "Asambleísta por Europa - Asia y Oceanía",
           "FEMENINO",
           0,
           "NINGUNO"
          ],
          [
           "Gustavo Enrique Mateus Acosta",
           "Revolución Ciudadana",
           "Asambleísta por Europa - Asia y Oceanía",
           "MASCULINO",
           0,
           "NINGUNO"
          ],
          [
           "Eduardo Mauricio Zambrano Valle",
           "Revolución Ciudadana",
           "Asambleísta por América Latina El Caribe y África",
           "MASCULINO",
           0,
           "NINGUNO"
          ],
          [
           "Cristhian Antonio Vega Quezada",
           "Revolución Ciudadana",
           "Asambleísta por El Oro",
           "MASCULINO",
           42,
           "OTRO-A"
          ],
          [
           "Janeth Paola Cabezas Castillo",
           "Revolución Ciudadana",
           "Asambleísta Nacional",
           "FEMENINO",
           46,
           "AFROECUATORIANO/A"
          ],
          [
           "Rosa Margarita Arotingo Cushcagua",
           "Revolución Ciudadana",
           "Asambleísta Nacional",
           "FEMENINO",
           45,
           "INDIGENA"
          ],
          [
           "Comps Pascacio Córdova Díaz",
           "Revolución Ciudadana",
           "Asambleísta por Sucumbíos",
           "MASCULINO",
           47,
           "MESTIZO/A"
          ],
          [
           "Ana Cecilia Herrera Gómez",
           "Revolución Ciudadana",
           "Asambleísta por Cotopaxi",
           "FEMENINO",
           40,
           "MESTIZO/A"
          ],
          [
           "Roberto Emilio Cuero Medina",
           "Revolución Ciudadana",
           "Asambleísta por Guayas",
           "MASCULINO",
           55,
           "MESTIZO/A"
          ],
          [
           "Blasco Remigio Luna Arévalo",
           "Revolución Ciudadana",
           "Asambleísta por Cañar",
           "MASCULINO",
           44,
           "MESTIZO/A"
          ],
          [
           "Silvia Patricia Nuñez Ramos",
           "Revolución Ciudadana",
           "Asambleísta por Chimborazo",
           "FEMENINO",
           58,
           "MESTIZO/A"
          ],
          [
           "Ricardo Ulcuango Farinango",
           "Revolución Ciudadana",
           "Asambleísta Nacional",
           "MASCULINO",
           58,
           "INDIGENA"
          ],
          [
           "Jahiren Elizabeth Noriega Donoso",
           "Revolución Ciudadana",
           "Asambleísta por Pichincha",
           "FEMENINO",
           26,
           "MESTIZO/A"
          ],
          [
           "Gissela Siomara Garzón Monteros",
           "Revolución Ciudadana",
           "Asambleísta por Pichincha",
           "FEMENINO",
           32,
           "MESTIZO/A"
          ],
          [
           "Eugenia Sofía Espín Reyes",
           "Revolución Ciudadana",
           "Asambleísta por Guayas",
           "FEMENINO",
           47,
           "MESTIZO/A"
          ],
          [
           "Johanna Cecibel Ortiz Villavicencio",
           "Revolución Ciudadana",
           "Asambleísta por Loja",
           "FEMENINO",
           37,
           "MESTIZO/A"
          ],
          [
           "Lyne Katiuska Miranda Giler",
           "Revolución Ciudadana",
           "Asambleísta por Manabí",
           "FEMENINO",
           50,
           "MESTIZO/A"
          ],
          [
           "Marcela Priscila Holguín Naranjo",
           "Revolución Ciudadana",
           "Asambleísta por Pichincha",
           "FEMENINO",
           50,
           "MESTIZO/A"
          ],
          [
           "Mariuxi Cleopatra Sanchez Sarango",
           "Revolución Ciudadana",
           "Asambleísta por Orellana",
           "FEMENINO",
           42,
           "MESTIZO/A"
          ],
          [
           "Mónica Salazar Hidalgo",
           "Revolución Ciudadana",
           "Asambleísta por Los Ríos",
           "FEMENINO",
           46,
           "MESTIZO/A"
          ],
          [
           "Pamela Alejandra Aguirre Zambonino",
           "Revolución Ciudadana",
           "Asambleísta por Imbabura",
           "FEMENINO",
           39,
           "MESTIZO/A"
          ],
          [
           "Patricia Monserrat Mendoza Jiménez",
           "Revolución Ciudadana",
           "Asambleísta por Esmeraldas",
           "FEMENINO",
           44,
           "MESTIZO/A"
          ],
          [
           "Pierina Sara Mercedes Correa Delgado",
           "Revolución Ciudadana",
           "Asambleísta Nacional",
           "FEMENINO",
           63,
           "MESTIZO/A"
          ],
          [
           "Raisa Irina Corral Alava",
           "Revolución Ciudadana",
           "Asambleísta por Manabí",
           "FEMENINO",
           35,
           "MESTIZO/A"
          ],
          [
           "Rebeca Viviana Veloz Ramírez",
           "Revolución Ciudadana",
           "Asambleísta por Santo Domingo de los Tsáchilas",
           "FEMENINO",
           39,
           "MESTIZO/A"
          ],
          [
           "Rosa Belén Mayorga Tapia",
           "Revolución Ciudadana",
           "Asambleísta por Tungurahua",
           "FEMENINO",
           40,
           "MESTIZO/A"
          ],
          [
           "María Gabriela Molina Menéndez",
           "Revolución Ciudadana",
           "Asambleísta por Manabí",
           "FEMENINO",
           35,
           "MESTIZO/A"
          ],
          [
           "Victoria Tatiana Desintonio Malave",
           "Revolución Ciudadana",
           "Asambleísta por Guayas",
           "FEMENINO",
           36,
           "MESTIZO/A"
          ],
          [
           "Jhajaira Estefania Urresta Guzman",
           "Revolución Ciudadana",
           "Asambleísta por Pichincha",
           "FEMENINO",
           32,
           "MESTIZO/A"
          ],
          [
           "Fernanda Mabel Méndez Rojas",
           "Revolución Ciudadana",
           "Asambleísta por Azuay",
           "FEMENINO",
           41,
           "MESTIZO/A"
          ],
          [
           "Lenin José Lara Rivadeneira",
           "Revolución Ciudadana",
           "Asambleísta por Esmeraldas",
           "MASCULINO",
           45,
           "AFROECUATORIANO/A"
          ],
          [
           "Ana María Raffo Guevara",
           "Revolución Ciudadana",
           "Asambleísta por Guayas",
           "FEMENINO",
           40,
           "MESTIZO/A"
          ],
          [
           "José Clemente Agualsaca Guamán",
           "Revolución Ciudadana",
           "Asambleísta Nacional",
           "MASCULINO",
           58,
           "INDIGENA"
          ],
          [
           "Segundo Eustaquio Tuala Muntza",
           "Revolución Ciudadana",
           "Asambleísta Nacional",
           "MASCULINO",
           46,
           "INDIGENA"
          ],
          [
           "Mónica Estefania Palacios Zambrano",
           "Revolución Ciudadana",
           "Asambleísta por EEUU - Canadá",
           "FEMENINO",
           0,
           "NINGUNO"
          ]
         ],
         "hovertemplate": "<b>%{customdata[0]}</b><br>Partido: %{customdata[1]}<br>Provincia: %{customdata[2]}<br>Género: %{customdata[3]}<br>Edad: %{customdata[4]}<br>Etnia: %{customdata[5]}<br><extra></extra>",
         "legendgroup": "Revolución Ciudadana",
         "marker": {
          "color": "#2776BB",
          "opacity": 0.7,
          "size": 28,
          "symbol": "circle"
         },
         "mode": "markers+text",
         "name": "Revolución Ciudadana",
         "r": [
          8,
          9,
          10,
          8,
          7,
          6,
          10,
          9,
          10,
          8,
          9,
          7,
          6,
          10,
          9,
          8,
          7,
          10,
          6,
          9,
          8,
          10,
          7,
          9,
          6,
          8,
          10,
          7,
          9,
          10,
          8,
          6,
          9,
          7,
          10,
          8,
          9,
          10,
          6,
          7,
          8,
          9,
          10,
          6,
          7,
          8,
          9,
          10
         ],
         "showlegend": true,
         "subplot": "polar",
         "text": [
          "J",
          "L",
          "J",
          "A",
          "F",
          "F",
          "J",
          "L",
          "H",
          "P",
          "A",
          "R",
          "S",
          "E",
          "G",
          "E",
          "C",
          "J",
          "R",
          "C",
          "A",
          "R",
          "B",
          "S",
          "R",
          "J",
          "G",
          "E",
          "J",
          "L",
          "M",
          "M",
          "M",
          "P",
          "P",
          "P",
          "R",
          "R",
          "R",
          "M",
          "V",
          "J",
          "F",
          "L",
          "A",
          "J",
          "S",
          "M"
         ],
         "textfont": {
          "size": 12
         },
         "textposition": "middle center",
         "theta": [
          155.55555555555551,
          158.70967741935493,
          158.82352941176475,
          164.4444444444444,
          165,
          165.7142857142857,
          165.88235294117652,
          166.4516129032259,
          172.9411764705883,
          173.3333333333333,
          174.19354838709688,
          175,
          177.1428571428571,
          180.00000000000006,
          181.93548387096783,
          182.22222222222217,
          185,
          187.05882352941185,
          188.57142857142853,
          189.67741935483883,
          191.11111111111103,
          194.1176470588236,
          195,
          197.4193548387098,
          199.99999999999997,
          199.99999999999997,
          201.17647058823536,
          205,
          205.1612903225808,
          208.23529411764716,
          208.88888888888883,
          211.42857142857136,
          212.90322580645176,
          215,
          215.2941176470589,
          217.7777777777777,
          220.64516129032276,
          222.3529411764707,
          222.8571428571428,
          225,
          226.6666666666666,
          228.3870967741937,
          229.41176470588243,
          234.2857142857142,
          235,
          235.5555555555555,
          236.12903225806468,
          236.4705882352942
         ],
         "type": "scatterpolar"
        }
       ],
       "layout": {
        "autosize": true,
        "font": {
         "family": "Arial, monospace",
         "size": 12
        },
        "height": 500,
        "legend": {
         "title": {
          "text": "PARTIDO"
         },
         "tracegroupgap": 0
        },
        "margin": {
         "b": 20,
         "l": 5,
         "r": 5,
         "t": 10
        },
        "polar": {
         "angularaxis": {
          "direction": "counterclockwise",
          "gridcolor": "rgba(0,0,0,0)",
          "linecolor": "rgba(0,0,0,0)",
          "rotation": -30,
          "showticklabels": false,
          "ticks": ""
         },
         "domain": {
          "x": [
           0,
           1
          ],
          "y": [
           0,
           1
          ]
         },
         "radialaxis": {
          "gridcolor": "rgba(0,0,0,0)",
          "linecolor": "rgba(255, 255, 255, 0)",
          "showticklabels": false,
          "ticks": ""
         },
         "sector": [
          -30,
          210
         ]
        },
        "showlegend": false,
        "template": {
         "data": {
          "bar": [
           {
            "error_x": {
             "color": "#f2f5fa"
            },
            "error_y": {
             "color": "#f2f5fa"
            },
            "marker": {
             "line": {
              "color": "rgb(17,17,17)",
              "width": 0.5
             },
             "pattern": {
              "fillmode": "overlay",
              "size": 10,
              "solidity": 0.2
             }
            },
            "type": "bar"
           }
          ],
          "barpolar": [
           {
            "marker": {
             "line": {
              "color": "rgb(17,17,17)",
              "width": 0.5
             },
             "pattern": {
              "fillmode": "overlay",
              "size": 10,
              "solidity": 0.2
             }
            },
            "type": "barpolar"
           }
          ],
          "carpet": [
           {
            "aaxis": {
             "endlinecolor": "#A2B1C6",
             "gridcolor": "#506784",
             "linecolor": "#506784",
             "minorgridcolor": "#506784",
             "startlinecolor": "#A2B1C6"
            },
            "baxis": {
             "endlinecolor": "#A2B1C6",
             "gridcolor": "#506784",
             "linecolor": "#506784",
             "minorgridcolor": "#506784",
             "startlinecolor": "#A2B1C6"
            },
            "type": "carpet"
           }
          ],
          "choropleth": [
           {
            "colorbar": {
             "outlinewidth": 0,
             "ticks": ""
            },
            "type": "choropleth"
           }
          ],
          "contour": [
           {
            "colorbar": {
             "outlinewidth": 0,
             "ticks": ""
            },
            "colorscale": [
             [
              0,
              "#0d0887"
             ],
             [
              0.1111111111111111,
              "#46039f"
             ],
             [
              0.2222222222222222,
              "#7201a8"
             ],
             [
              0.3333333333333333,
              "#9c179e"
             ],
             [
              0.4444444444444444,
              "#bd3786"
             ],
             [
              0.5555555555555556,
              "#d8576b"
             ],
             [
              0.6666666666666666,
              "#ed7953"
             ],
             [
              0.7777777777777778,
              "#fb9f3a"
             ],
             [
              0.8888888888888888,
              "#fdca26"
             ],
             [
              1,
              "#f0f921"
             ]
            ],
            "type": "contour"
           }
          ],
          "contourcarpet": [
           {
            "colorbar": {
             "outlinewidth": 0,
             "ticks": ""
            },
            "type": "contourcarpet"
           }
          ],
          "heatmap": [
           {
            "colorbar": {
             "outlinewidth": 0,
             "ticks": ""
            },
            "colorscale": [
             [
              0,
              "#0d0887"
             ],
             [
              0.1111111111111111,
              "#46039f"
             ],
             [
              0.2222222222222222,
              "#7201a8"
             ],
             [
              0.3333333333333333,
              "#9c179e"
             ],
             [
              0.4444444444444444,
              "#bd3786"
             ],
             [
              0.5555555555555556,
              "#d8576b"
             ],
             [
              0.6666666666666666,
              "#ed7953"
             ],
             [
              0.7777777777777778,
              "#fb9f3a"
             ],
             [
              0.8888888888888888,
              "#fdca26"
             ],
             [
              1,
              "#f0f921"
             ]
            ],
            "type": "heatmap"
           }
          ],
          "heatmapgl": [
           {
            "colorbar": {
             "outlinewidth": 0,
             "ticks": ""
            },
            "colorscale": [
             [
              0,
              "#0d0887"
             ],
             [
              0.1111111111111111,
              "#46039f"
             ],
             [
              0.2222222222222222,
              "#7201a8"
             ],
             [
              0.3333333333333333,
              "#9c179e"
             ],
             [
              0.4444444444444444,
              "#bd3786"
             ],
             [
              0.5555555555555556,
              "#d8576b"
             ],
             [
              0.6666666666666666,
              "#ed7953"
             ],
             [
              0.7777777777777778,
              "#fb9f3a"
             ],
             [
              0.8888888888888888,
              "#fdca26"
             ],
             [
              1,
              "#f0f921"
             ]
            ],
            "type": "heatmapgl"
           }
          ],
          "histogram": [
           {
            "marker": {
             "pattern": {
              "fillmode": "overlay",
              "size": 10,
              "solidity": 0.2
             }
            },
            "type": "histogram"
           }
          ],
          "histogram2d": [
           {
            "colorbar": {
             "outlinewidth": 0,
             "ticks": ""
            },
            "colorscale": [
             [
              0,
              "#0d0887"
             ],
             [
              0.1111111111111111,
              "#46039f"
             ],
             [
              0.2222222222222222,
              "#7201a8"
             ],
             [
              0.3333333333333333,
              "#9c179e"
             ],
             [
              0.4444444444444444,
              "#bd3786"
             ],
             [
              0.5555555555555556,
              "#d8576b"
             ],
             [
              0.6666666666666666,
              "#ed7953"
             ],
             [
              0.7777777777777778,
              "#fb9f3a"
             ],
             [
              0.8888888888888888,
              "#fdca26"
             ],
             [
              1,
              "#f0f921"
             ]
            ],
            "type": "histogram2d"
           }
          ],
          "histogram2dcontour": [
           {
            "colorbar": {
             "outlinewidth": 0,
             "ticks": ""
            },
            "colorscale": [
             [
              0,
              "#0d0887"
             ],
             [
              0.1111111111111111,
              "#46039f"
             ],
             [
              0.2222222222222222,
              "#7201a8"
             ],
             [
              0.3333333333333333,
              "#9c179e"
             ],
             [
              0.4444444444444444,
              "#bd3786"
             ],
             [
              0.5555555555555556,
              "#d8576b"
             ],
             [
              0.6666666666666666,
              "#ed7953"
             ],
             [
              0.7777777777777778,
              "#fb9f3a"
             ],
             [
              0.8888888888888888,
              "#fdca26"
             ],
             [
              1,
              "#f0f921"
             ]
            ],
            "type": "histogram2dcontour"
           }
          ],
          "mesh3d": [
           {
            "colorbar": {
             "outlinewidth": 0,
             "ticks": ""
            },
            "type": "mesh3d"
           }
          ],
          "parcoords": [
           {
            "line": {
             "colorbar": {
              "outlinewidth": 0,
              "ticks": ""
             }
            },
            "type": "parcoords"
           }
          ],
          "pie": [
           {
            "automargin": true,
            "type": "pie"
           }
          ],
          "scatter": [
           {
            "marker": {
             "line": {
              "color": "#283442"
             }
            },
            "type": "scatter"
           }
          ],
          "scatter3d": [
           {
            "line": {
             "colorbar": {
              "outlinewidth": 0,
              "ticks": ""
             }
            },
            "marker": {
             "colorbar": {
              "outlinewidth": 0,
              "ticks": ""
             }
            },
            "type": "scatter3d"
           }
          ],
          "scattercarpet": [
           {
            "marker": {
             "colorbar": {
              "outlinewidth": 0,
              "ticks": ""
             }
            },
            "type": "scattercarpet"
           }
          ],
          "scattergeo": [
           {
            "marker": {
             "colorbar": {
              "outlinewidth": 0,
              "ticks": ""
             }
            },
            "type": "scattergeo"
           }
          ],
          "scattergl": [
           {
            "marker": {
             "line": {
              "color": "#283442"
             }
            },
            "type": "scattergl"
           }
          ],
          "scattermapbox": [
           {
            "marker": {
             "colorbar": {
              "outlinewidth": 0,
              "ticks": ""
             }
            },
            "type": "scattermapbox"
           }
          ],
          "scatterpolar": [
           {
            "marker": {
             "colorbar": {
              "outlinewidth": 0,
              "ticks": ""
             }
            },
            "type": "scatterpolar"
           }
          ],
          "scatterpolargl": [
           {
            "marker": {
             "colorbar": {
              "outlinewidth": 0,
              "ticks": ""
             }
            },
            "type": "scatterpolargl"
           }
          ],
          "scatterternary": [
           {
            "marker": {
             "colorbar": {
              "outlinewidth": 0,
              "ticks": ""
             }
            },
            "type": "scatterternary"
           }
          ],
          "surface": [
           {
            "colorbar": {
             "outlinewidth": 0,
             "ticks": ""
            },
            "colorscale": [
             [
              0,
              "#0d0887"
             ],
             [
              0.1111111111111111,
              "#46039f"
             ],
             [
              0.2222222222222222,
              "#7201a8"
             ],
             [
              0.3333333333333333,
              "#9c179e"
             ],
             [
              0.4444444444444444,
              "#bd3786"
             ],
             [
              0.5555555555555556,
              "#d8576b"
             ],
             [
              0.6666666666666666,
              "#ed7953"
             ],
             [
              0.7777777777777778,
              "#fb9f3a"
             ],
             [
              0.8888888888888888,
              "#fdca26"
             ],
             [
              1,
              "#f0f921"
             ]
            ],
            "type": "surface"
           }
          ],
          "table": [
           {
            "cells": {
             "fill": {
              "color": "#506784"
             },
             "line": {
              "color": "rgb(17,17,17)"
             }
            },
            "header": {
             "fill": {
              "color": "#2a3f5f"
             },
             "line": {
              "color": "rgb(17,17,17)"
             }
            },
            "type": "table"
           }
          ]
         },
         "layout": {
          "annotationdefaults": {
           "arrowcolor": "#f2f5fa",
           "arrowhead": 0,
           "arrowwidth": 1
          },
          "autotypenumbers": "strict",
          "coloraxis": {
           "colorbar": {
            "outlinewidth": 0,
            "ticks": ""
           }
          },
          "colorscale": {
           "diverging": [
            [
             0,
             "#8e0152"
            ],
            [
             0.1,
             "#c51b7d"
            ],
            [
             0.2,
             "#de77ae"
            ],
            [
             0.3,
             "#f1b6da"
            ],
            [
             0.4,
             "#fde0ef"
            ],
            [
             0.5,
             "#f7f7f7"
            ],
            [
             0.6,
             "#e6f5d0"
            ],
            [
             0.7,
             "#b8e186"
            ],
            [
             0.8,
             "#7fbc41"
            ],
            [
             0.9,
             "#4d9221"
            ],
            [
             1,
             "#276419"
            ]
           ],
           "sequential": [
            [
             0,
             "#0d0887"
            ],
            [
             0.1111111111111111,
             "#46039f"
            ],
            [
             0.2222222222222222,
             "#7201a8"
            ],
            [
             0.3333333333333333,
             "#9c179e"
            ],
            [
             0.4444444444444444,
             "#bd3786"
            ],
            [
             0.5555555555555556,
             "#d8576b"
            ],
            [
             0.6666666666666666,
             "#ed7953"
            ],
            [
             0.7777777777777778,
             "#fb9f3a"
            ],
            [
             0.8888888888888888,
             "#fdca26"
            ],
            [
             1,
             "#f0f921"
            ]
           ],
           "sequentialminus": [
            [
             0,
             "#0d0887"
            ],
            [
             0.1111111111111111,
             "#46039f"
            ],
            [
             0.2222222222222222,
             "#7201a8"
            ],
            [
             0.3333333333333333,
             "#9c179e"
            ],
            [
             0.4444444444444444,
             "#bd3786"
            ],
            [
             0.5555555555555556,
             "#d8576b"
            ],
            [
             0.6666666666666666,
             "#ed7953"
            ],
            [
             0.7777777777777778,
             "#fb9f3a"
            ],
            [
             0.8888888888888888,
             "#fdca26"
            ],
            [
             1,
             "#f0f921"
            ]
           ]
          },
          "colorway": [
           "#636efa",
           "#EF553B",
           "#00cc96",
           "#ab63fa",
           "#FFA15A",
           "#19d3f3",
           "#FF6692",
           "#B6E880",
           "#FF97FF",
           "#FECB52"
          ],
          "font": {
           "color": "#f2f5fa"
          },
          "geo": {
           "bgcolor": "rgb(17,17,17)",
           "lakecolor": "rgb(17,17,17)",
           "landcolor": "rgb(17,17,17)",
           "showlakes": true,
           "showland": true,
           "subunitcolor": "#506784"
          },
          "hoverlabel": {
           "align": "left"
          },
          "hovermode": "closest",
          "mapbox": {
           "style": "dark"
          },
          "paper_bgcolor": "rgb(17,17,17)",
          "plot_bgcolor": "rgb(17,17,17)",
          "polar": {
           "angularaxis": {
            "gridcolor": "#506784",
            "linecolor": "#506784",
            "ticks": ""
           },
           "bgcolor": "rgb(17,17,17)",
           "radialaxis": {
            "gridcolor": "#506784",
            "linecolor": "#506784",
            "ticks": ""
           }
          },
          "scene": {
           "xaxis": {
            "backgroundcolor": "rgb(17,17,17)",
            "gridcolor": "#506784",
            "gridwidth": 2,
            "linecolor": "#506784",
            "showbackground": true,
            "ticks": "",
            "zerolinecolor": "#C8D4E3"
           },
           "yaxis": {
            "backgroundcolor": "rgb(17,17,17)",
            "gridcolor": "#506784",
            "gridwidth": 2,
            "linecolor": "#506784",
            "showbackground": true,
            "ticks": "",
            "zerolinecolor": "#C8D4E3"
           },
           "zaxis": {
            "backgroundcolor": "rgb(17,17,17)",
            "gridcolor": "#506784",
            "gridwidth": 2,
            "linecolor": "#506784",
            "showbackground": true,
            "ticks": "",
            "zerolinecolor": "#C8D4E3"
           }
          },
          "shapedefaults": {
           "line": {
            "color": "#f2f5fa"
           }
          },
          "sliderdefaults": {
           "bgcolor": "#C8D4E3",
           "bordercolor": "rgb(17,17,17)",
           "borderwidth": 1,
           "tickwidth": 0
          },
          "ternary": {
           "aaxis": {
            "gridcolor": "#506784",
            "linecolor": "#506784",
            "ticks": ""
           },
           "baxis": {
            "gridcolor": "#506784",
            "linecolor": "#506784",
            "ticks": ""
           },
           "bgcolor": "rgb(17,17,17)",
           "caxis": {
            "gridcolor": "#506784",
            "linecolor": "#506784",
            "ticks": ""
           }
          },
          "title": {
           "x": 0.05
          },
          "updatemenudefaults": {
           "bgcolor": "#506784",
           "borderwidth": 0
          },
          "xaxis": {
           "automargin": true,
           "gridcolor": "#283442",
           "linecolor": "#506784",
           "ticks": "",
           "title": {
            "standoff": 15
           },
           "zerolinecolor": "#283442",
           "zerolinewidth": 2
          },
          "yaxis": {
           "automargin": true,
           "gridcolor": "#283442",
           "linecolor": "#506784",
           "ticks": "",
           "title": {
            "standoff": 15
           },
           "zerolinecolor": "#283442",
           "zerolinewidth": 2
          }
         }
        },
        "uniformtext": {
         "minsize": 8,
         "mode": "hide"
        },
        "xaxis": {
         "showgrid": false
        },
        "yaxis": {
         "showgrid": false
        }
       }
      }
     },
     "metadata": {},
     "output_type": "display_data"
    }
   ],
   "source": [
    "import plotly.express as px\n",
    "\n",
    "graph_style = \"plotly_dark\" #template plotly\n",
    "height = 500 # height plot\n",
    "angle_total = 240 # all cover plot, recomended 90 - 300\n",
    "size_marker = 28 #config by size angle_total in design\n",
    "\n",
    "df = asambleistas\n",
    "\n",
    "angle_start = (180 - angle_total)/2\n",
    "angle_end = 180 + (angle_total - 180)/2\n",
    "d_ict = df[[\"PARTIDO\", \"COLOR\"]]\n",
    "d_ict = d_ict.drop_duplicates()\n",
    "dct = dict(d_ict.values)\n",
    "fig = px.scatter_polar(\n",
    "    df,\n",
    "    r=\"radio\",\n",
    "    theta=\"tetha\",\n",
    "    color=\"PARTIDO\",\n",
    "    color_discrete_map=dct,\n",
    "    text=\"INITIAL\",\n",
    "    start_angle=angle_start,\n",
    "    custom_data=[\"NAME\", \"PARTIDO\", \"PROVINCIA\", \"SEXO\", \"EDAD\", \"ETNIA\"],\n",
    "    range_theta=[angle_start, angle_end],\n",
    "    direction=\"counterclockwise\",\n",
    ")\n",
    "fig.update_layout(\n",
    "    xaxis=dict(showgrid=False),\n",
    "    yaxis=dict(showgrid=False),\n",
    "    margin=dict(b=20, r=5, l=5, t=10),\n",
    "    height=height,\n",
    "    polar=dict(\n",
    "        radialaxis=dict(\n",
    "            showticklabels=False, ticks=\"\", linecolor=\"rgba(255, 255, 255, 0)\"\n",
    "        ),\n",
    "        angularaxis=dict(showticklabels=False, ticks=\"\", linecolor=\"rgba(0,0,0,0)\"),\n",
    "    ),\n",
    "    polar_radialaxis_gridcolor=\"rgba(0,0,0,0)\",\n",
    "    polar_angularaxis_gridcolor=\"rgba(0,0,0,0)\",\n",
    ")\n",
    "fig.update_traces(textposition=\"middle center\")\n",
    "fig.update_traces(\n",
    "    hovertemplate=\"<b>%{customdata[0]}</b><br>\"\n",
    "    + \"Partido: %{customdata[1]}<br>\"\n",
    "    + \"Provincia: %{customdata[2]}<br>\"\n",
    "    + \"Género: %{customdata[3]}<br>\"\n",
    "    + \"Edad: %{customdata[4]}<br>\"\n",
    "    + \"Etnia: %{customdata[5]}<br>\"\n",
    "    + \"<extra></extra>\",\n",
    "    textfont_size=12,\n",
    ")\n",
    "fig.update_layout(\n",
    "    template=graph_style,\n",
    "    autosize=True,\n",
    "    showlegend=False,\n",
    "    uniformtext_minsize=8,\n",
    "    uniformtext_mode=\"hide\",\n",
    "    font=dict(family=\"Arial, monospace\", size=12),\n",
    ")\n",
    "fig.update_traces(marker=dict(opacity=0.7, size=size_marker))\n",
    "fig.show()"
   ]
  },
  {
   "cell_type": "code",
   "execution_count": 16,
   "metadata": {},
   "outputs": [
    {
     "data": {
      "application/vnd.plotly.v1+json": {
       "config": {
        "plotlyServerURL": "https://plot.ly"
       },
       "data": [
        {
         "alignmentgroup": "True",
         "boxpoints": "all",
         "customdata": [
          [
           "FEMENINO",
           "Valentina Centeno Arteaga"
          ],
          [
           "FEMENINO",
           "Marjorie Lorena Rosado Sánchez"
          ],
          [
           "FEMENINO",
           "Karina Del Carmen Subía Dávalos"
          ],
          [
           "FEMENINO",
           "Nathaly Estefania Farinango Delgado"
          ],
          [
           "FEMENINO",
           "Nicole Anahis Saca Baldeón"
          ],
          [
           "FEMENINO",
           "Jadira Del Rosario Bayas Uriarte"
          ],
          [
           "FEMENINO",
           "Inés Margarita Alarcón Bueno"
          ],
          [
           "FEMENINO",
           "María Fernanda Araujo Noboa"
          ],
          [
           "FEMENINO",
           "Lucia Anabelle Posso Naranjo"
          ],
          [
           "FEMENINO",
           "Gissella Cecibel Molina Alvarez"
          ],
          [
           "FEMENINO",
           "Sandra Sofía Sánchez Urgilés"
          ],
          [
           "FEMENINO",
           "Adriana Denisse García Mejía"
          ],
          [
           "FEMENINO",
           "María Fernanda Jiménez Vásquez"
          ],
          [
           "FEMENINO",
           "María Teresa Del Carmen Pasquel Andrade"
          ],
          [
           "FEMENINO",
           "María Mercedes Erbs Estupiñán"
          ],
          [
           "FEMENINO",
           "Lucía Lizbeth Jaramillo Zurita"
          ],
          [
           "FEMENINO",
           "Amy Yajanua Gende Córdova"
          ],
          [
           "FEMENINO",
           "Ana Mercedes Galarza Añazco"
          ],
          [
           "FEMENINO",
           "Lourdes Nataly Morillo Solórzano"
          ],
          [
           "FEMENINO",
           "Salazar Cedeño Ingrid Catalina"
          ],
          [
           "FEMENINO",
           "Andrea Yalu Rivadeneira Calderón"
          ],
          [
           "FEMENINO",
           "Alexandra Andrea Castillo Campoverde"
          ],
          [
           "FEMENINO",
           "Viviana Jacqueline Zambrano González"
          ],
          [
           "FEMENINO",
           "Sandra Elizabeth Rueda Camacho"
          ],
          [
           "FEMENINO",
           "Fabiola Maribel Sanmartín Parra"
          ],
          [
           "FEMENINO",
           "Carmen Yolanda Tiupul Urquizo"
          ],
          [
           "FEMENINO",
           "Rosa Cecilia Baltazar Yucailla"
          ],
          [
           "FEMENINO",
           "Luzmila Abad Morocho"
          ],
          [
           "FEMENINO",
           "Mariana Yumbay Yallico"
          ],
          [
           "FEMENINO",
           "Dallyana Marianela Passailaigue Manosalvas"
          ],
          [
           "FEMENINO",
           "Esperanza Del Rocío Moreta Terán"
          ],
          [
           "FEMENINO",
           "Nelly Zolanda Plúas Arias"
          ],
          [
           "FEMENINO",
           "Arisdely Paola Parrales Yagual"
          ],
          [
           "FEMENINO",
           "Alexandra Manuela Arce Plúas"
          ],
          [
           "FEMENINO",
           "Janeth Paola Cabezas Castillo"
          ],
          [
           "FEMENINO",
           "Rosa Margarita Arotingo Cushcagua"
          ],
          [
           "FEMENINO",
           "Ana Cecilia Herrera Gómez"
          ],
          [
           "FEMENINO",
           "Silvia Patricia Nuñez Ramos"
          ],
          [
           "FEMENINO",
           "Jahiren Elizabeth Noriega Donoso"
          ],
          [
           "FEMENINO",
           "Gissela Siomara Garzón Monteros"
          ],
          [
           "FEMENINO",
           "Eugenia Sofía Espín Reyes"
          ],
          [
           "FEMENINO",
           "Johanna Cecibel Ortiz Villavicencio"
          ],
          [
           "FEMENINO",
           "Lyne Katiuska Miranda Giler"
          ],
          [
           "FEMENINO",
           "Marcela Priscila Holguín Naranjo"
          ],
          [
           "FEMENINO",
           "Mariuxi Cleopatra Sanchez Sarango"
          ],
          [
           "FEMENINO",
           "Mónica Salazar Hidalgo"
          ],
          [
           "FEMENINO",
           "Pamela Alejandra Aguirre Zambonino"
          ],
          [
           "FEMENINO",
           "Patricia Monserrat Mendoza Jiménez"
          ],
          [
           "FEMENINO",
           "Pierina Sara Mercedes Correa Delgado"
          ],
          [
           "FEMENINO",
           "Raisa Irina Corral Alava"
          ],
          [
           "FEMENINO",
           "Rebeca Viviana Veloz Ramírez"
          ],
          [
           "FEMENINO",
           "Rosa Belén Mayorga Tapia"
          ],
          [
           "FEMENINO",
           "María Gabriela Molina Menéndez"
          ],
          [
           "FEMENINO",
           "Victoria Tatiana Desintonio Malave"
          ],
          [
           "FEMENINO",
           "Jhajaira Estefania Urresta Guzman"
          ],
          [
           "FEMENINO",
           "Fernanda Mabel Méndez Rojas"
          ],
          [
           "FEMENINO",
           "Ana María Raffo Guevara"
          ]
         ],
         "hovertemplate": "SEXO=%{customdata[0]}<br>EDAD=%{x}<br>NAME=%{customdata[1]}<extra></extra>",
         "legendgroup": "FEMENINO",
         "marker": {
          "color": "rgba( 178, 90, 122 ,1)"
         },
         "name": "FEMENINO",
         "notched": false,
         "offsetgroup": "FEMENINO",
         "orientation": "h",
         "showlegend": true,
         "type": "box",
         "x": [
          27,
          42,
          45,
          24,
          25,
          44,
          36,
          44,
          43,
          37,
          35,
          41,
          34,
          64,
          51,
          33,
          25,
          34,
          37,
          45,
          37,
          45,
          53,
          52,
          46,
          38,
          43,
          45,
          51,
          43,
          46,
          51,
          36,
          46,
          46,
          45,
          40,
          58,
          26,
          32,
          47,
          37,
          50,
          50,
          42,
          46,
          39,
          44,
          63,
          35,
          39,
          40,
          35,
          36,
          32,
          41,
          40
         ],
         "x0": " ",
         "xaxis": "x2",
         "y0": " ",
         "yaxis": "y2"
        },
        {
         "alignmentgroup": "True",
         "boxpoints": "all",
         "customdata": [
          [
           "MASCULINO",
           "Diego Fernando Matovelle Vera"
          ],
          [
           "MASCULINO",
           "Arturo Germán Moreno Encalada"
          ],
          [
           "MASCULINO",
           "Francisco Andres Cevallos Macías"
          ],
          [
           "MASCULINO",
           "Adrián Ernesto Castro Piedra"
          ],
          [
           "MASCULINO",
           "Erwin Eduardo Mendoza Palma"
          ],
          [
           "MASCULINO",
           "César Umajinga Guamán"
          ],
          [
           "MASCULINO",
           "Eckenner Reader Recalde Álava"
          ],
          [
           "MASCULINO",
           "Jorge Luis Guevara Benavidez"
          ],
          [
           "MASCULINO",
           "Fausto Armando Fernández Rosales"
          ],
          [
           "MASCULINO",
           "Jonathan Emanuel Parra Villacis"
          ],
          [
           "MASCULINO",
           "Steven Leonardo Ordoñez Bravo"
          ],
          [
           "MASCULINO",
           "Simón Bolívar Mieles Pinargote"
          ],
          [
           "MASCULINO",
           "Payar Celestino Wisum Saant"
          ],
          [
           "MASCULINO",
           "Patricio Benjamín Cisneros Granizo"
          ],
          [
           "MASCULINO",
           "Luis Ricardo Alvarado Campi"
          ],
          [
           "MASCULINO",
           "Ramiro Vela Jiménez"
          ],
          [
           "MASCULINO",
           "Pedro Ramiro Velasco Erazo"
          ],
          [
           "MASCULINO",
           "Carlos Alberto Rodríguez Riofrío"
          ],
          [
           "MASCULINO",
           "César Arturo Ugsha Toaquiza"
          ],
          [
           "MASCULINO",
           "John Edison Polanco Lara"
          ],
          [
           "MASCULINO",
           "Hernán Patricio Zapata Rojas"
          ],
          [
           "MASCULINO",
           "Roberto Fernando Jaramillo Martínez"
          ],
          [
           "MASCULINO",
           "Rafael Antonio Dávila Egüez"
          ],
          [
           "MASCULINO",
           "Henry Saúl Bósquez Villena"
          ],
          [
           "MASCULINO",
           "Guido Gilberto Vargas Ocaña"
          ],
          [
           "MASCULINO",
           "Milton Javier Aguas Flores"
          ],
          [
           "MASCULINO",
           "Xavier Andrés Jurado Bedrán"
          ],
          [
           "MASCULINO",
           "Ferdinan Arturo Álvarez Zambrano"
          ],
          [
           "MASCULINO",
           "Juan Carlos Camacho Dávila"
          ],
          [
           "MASCULINO",
           "Gabriel Humberto Bedón Álvarez"
          ],
          [
           "MASCULINO",
           "Jorge Enrique Chamba Cabanilla"
          ],
          [
           "MASCULINO",
           "Paúl Fernando Buestan Carabajo"
          ],
          [
           "MASCULINO",
           "Oscar Fabián Peña Toro"
          ],
          [
           "MASCULINO",
           "Manuel Humberto Tapia Escalante"
          ],
          [
           "MASCULINO",
           "Juan Carlos Rosero Paz"
          ],
          [
           "MASCULINO",
           "Jorge Andrés Peñafiel Cedeño"
          ],
          [
           "MASCULINO",
           "Jaime Moreno Felix"
          ],
          [
           "MASCULINO",
           "Camilo Aurelio Salinas Ochoa"
          ],
          [
           "MASCULINO",
           "Jaime Patricio Guevara Blaschke"
          ],
          [
           "MASCULINO",
           "Humberto Amado Chávez Angamarca"
          ],
          [
           "MASCULINO",
           "Samuel Elias Celleri Gómez"
          ],
          [
           "MASCULINO",
           "Otto Santiago Vera Palacios"
          ],
          [
           "MASCULINO",
           "Jose Lenín Rogel Villacís"
          ],
          [
           "MASCULINO",
           "Jorge Hermel Álvarez Granda"
          ],
          [
           "MASCULINO",
           "Vicente Giovanny Taiano Basante"
          ],
          [
           "MASCULINO",
           "Henry Fabián Kronfle Kozhaya"
          ],
          [
           "MASCULINO",
           "Carlos Vera Mora"
          ],
          [
           "MASCULINO",
           "Edgar Geovanny Benítez Calva"
          ],
          [
           "MASCULINO",
           "Johnny Enrique Terán Barragán"
          ],
          [
           "MASCULINO",
           "Jaminton Enrique Intriago Alcívar"
          ],
          [
           "MASCULINO",
           "Roberto Carlos Cerda Tapuy"
          ],
          [
           "MASCULINO",
           "Jorge Enrique Acaiturri Villa Varas"
          ],
          [
           "MASCULINO",
           "Achi Sibri Audy Marcelo"
          ],
          [
           "MASCULINO",
           "Lucio Edwin Gutiérrez Borbúa"
          ],
          [
           "MASCULINO",
           "Juan Pablo Molina Saldaña"
          ],
          [
           "MASCULINO",
           "Lenin Daniel Barreto Zambrano"
          ],
          [
           "MASCULINO",
           "José Vallejo"
          ],
          [
           "MASCULINO",
           "Franklin Omar Samaniego Maigua"
          ],
          [
           "MASCULINO",
           "Fernando Enrique Cedeño Rivadeneira"
          ],
          [
           "MASCULINO",
           "José Ernesto Maldonado Córdova"
          ],
          [
           "MASCULINO",
           "Leonardo Renato Berrezueta Carrión"
          ],
          [
           "MASCULINO",
           "Héctor Guillermo Valladarez González"
          ],
          [
           "MASCULINO",
           "Patricio Alberto Chávez Zavala"
          ],
          [
           "MASCULINO",
           "Ronal Eduardo González Valero"
          ],
          [
           "MASCULINO",
           "Sixto Antonio Parra Tovar"
          ],
          [
           "MASCULINO",
           "Cristhian Antonio Vega Quezada"
          ],
          [
           "MASCULINO",
           "Comps Pascacio Córdova Díaz"
          ],
          [
           "MASCULINO",
           "Roberto Emilio Cuero Medina"
          ],
          [
           "MASCULINO",
           "Blasco Remigio Luna Arévalo"
          ],
          [
           "MASCULINO",
           "Ricardo Ulcuango Farinango"
          ],
          [
           "MASCULINO",
           "Lenin José Lara Rivadeneira"
          ],
          [
           "MASCULINO",
           "José Clemente Agualsaca Guamán"
          ],
          [
           "MASCULINO",
           "Segundo Eustaquio Tuala Muntza"
          ]
         ],
         "hovertemplate": "SEXO=%{customdata[0]}<br>EDAD=%{x}<br>NAME=%{customdata[1]}<extra></extra>",
         "legendgroup": "MASCULINO",
         "marker": {
          "color": "rgba(  65, 78, 115 , 1)"
         },
         "name": "MASCULINO",
         "notched": false,
         "offsetgroup": "MASCULINO",
         "orientation": "h",
         "showlegend": true,
         "type": "box",
         "x": [
          41,
          67,
          32,
          43,
          57,
          55,
          58,
          36,
          62,
          36,
          31,
          55,
          51,
          61,
          53,
          51,
          61,
          30,
          38,
          54,
          47,
          48,
          64,
          49,
          52,
          42,
          41,
          36,
          63,
          40,
          66,
          33,
          44,
          55,
          51,
          40,
          40,
          41,
          59,
          60,
          30,
          46,
          42,
          57,
          44,
          52,
          46,
          56,
          30,
          52,
          41,
          41,
          56,
          67,
          39,
          39,
          53,
          52,
          59,
          66,
          45,
          50,
          57,
          52,
          43,
          42,
          47,
          55,
          44,
          58,
          45,
          58,
          46
         ],
         "x0": " ",
         "xaxis": "x",
         "y0": " ",
         "yaxis": "y"
        }
       ],
       "layout": {
        "annotations": [
         {
          "font": {},
          "showarrow": false,
          "text": "",
          "textangle": 90,
          "x": 0.98,
          "xanchor": "left",
          "xref": "paper",
          "y": 0.2425,
          "yanchor": "middle",
          "yref": "paper"
         },
         {
          "font": {},
          "showarrow": false,
          "text": "",
          "textangle": 90,
          "x": 0.98,
          "xanchor": "left",
          "xref": "paper",
          "y": 0.7575000000000001,
          "yanchor": "middle",
          "yref": "paper"
         }
        ],
        "autosize": true,
        "boxmode": "group",
        "height": 200,
        "legend": {
         "title": {
          "text": ""
         },
         "tracegroupgap": 0
        },
        "margin": {
         "t": 60
        },
        "showlegend": false,
        "template": {
         "data": {
          "bar": [
           {
            "error_x": {
             "color": "#f2f5fa"
            },
            "error_y": {
             "color": "#f2f5fa"
            },
            "marker": {
             "line": {
              "color": "rgb(17,17,17)",
              "width": 0.5
             },
             "pattern": {
              "fillmode": "overlay",
              "size": 10,
              "solidity": 0.2
             }
            },
            "type": "bar"
           }
          ],
          "barpolar": [
           {
            "marker": {
             "line": {
              "color": "rgb(17,17,17)",
              "width": 0.5
             },
             "pattern": {
              "fillmode": "overlay",
              "size": 10,
              "solidity": 0.2
             }
            },
            "type": "barpolar"
           }
          ],
          "carpet": [
           {
            "aaxis": {
             "endlinecolor": "#A2B1C6",
             "gridcolor": "#506784",
             "linecolor": "#506784",
             "minorgridcolor": "#506784",
             "startlinecolor": "#A2B1C6"
            },
            "baxis": {
             "endlinecolor": "#A2B1C6",
             "gridcolor": "#506784",
             "linecolor": "#506784",
             "minorgridcolor": "#506784",
             "startlinecolor": "#A2B1C6"
            },
            "type": "carpet"
           }
          ],
          "choropleth": [
           {
            "colorbar": {
             "outlinewidth": 0,
             "ticks": ""
            },
            "type": "choropleth"
           }
          ],
          "contour": [
           {
            "colorbar": {
             "outlinewidth": 0,
             "ticks": ""
            },
            "colorscale": [
             [
              0,
              "#0d0887"
             ],
             [
              0.1111111111111111,
              "#46039f"
             ],
             [
              0.2222222222222222,
              "#7201a8"
             ],
             [
              0.3333333333333333,
              "#9c179e"
             ],
             [
              0.4444444444444444,
              "#bd3786"
             ],
             [
              0.5555555555555556,
              "#d8576b"
             ],
             [
              0.6666666666666666,
              "#ed7953"
             ],
             [
              0.7777777777777778,
              "#fb9f3a"
             ],
             [
              0.8888888888888888,
              "#fdca26"
             ],
             [
              1,
              "#f0f921"
             ]
            ],
            "type": "contour"
           }
          ],
          "contourcarpet": [
           {
            "colorbar": {
             "outlinewidth": 0,
             "ticks": ""
            },
            "type": "contourcarpet"
           }
          ],
          "heatmap": [
           {
            "colorbar": {
             "outlinewidth": 0,
             "ticks": ""
            },
            "colorscale": [
             [
              0,
              "#0d0887"
             ],
             [
              0.1111111111111111,
              "#46039f"
             ],
             [
              0.2222222222222222,
              "#7201a8"
             ],
             [
              0.3333333333333333,
              "#9c179e"
             ],
             [
              0.4444444444444444,
              "#bd3786"
             ],
             [
              0.5555555555555556,
              "#d8576b"
             ],
             [
              0.6666666666666666,
              "#ed7953"
             ],
             [
              0.7777777777777778,
              "#fb9f3a"
             ],
             [
              0.8888888888888888,
              "#fdca26"
             ],
             [
              1,
              "#f0f921"
             ]
            ],
            "type": "heatmap"
           }
          ],
          "heatmapgl": [
           {
            "colorbar": {
             "outlinewidth": 0,
             "ticks": ""
            },
            "colorscale": [
             [
              0,
              "#0d0887"
             ],
             [
              0.1111111111111111,
              "#46039f"
             ],
             [
              0.2222222222222222,
              "#7201a8"
             ],
             [
              0.3333333333333333,
              "#9c179e"
             ],
             [
              0.4444444444444444,
              "#bd3786"
             ],
             [
              0.5555555555555556,
              "#d8576b"
             ],
             [
              0.6666666666666666,
              "#ed7953"
             ],
             [
              0.7777777777777778,
              "#fb9f3a"
             ],
             [
              0.8888888888888888,
              "#fdca26"
             ],
             [
              1,
              "#f0f921"
             ]
            ],
            "type": "heatmapgl"
           }
          ],
          "histogram": [
           {
            "marker": {
             "pattern": {
              "fillmode": "overlay",
              "size": 10,
              "solidity": 0.2
             }
            },
            "type": "histogram"
           }
          ],
          "histogram2d": [
           {
            "colorbar": {
             "outlinewidth": 0,
             "ticks": ""
            },
            "colorscale": [
             [
              0,
              "#0d0887"
             ],
             [
              0.1111111111111111,
              "#46039f"
             ],
             [
              0.2222222222222222,
              "#7201a8"
             ],
             [
              0.3333333333333333,
              "#9c179e"
             ],
             [
              0.4444444444444444,
              "#bd3786"
             ],
             [
              0.5555555555555556,
              "#d8576b"
             ],
             [
              0.6666666666666666,
              "#ed7953"
             ],
             [
              0.7777777777777778,
              "#fb9f3a"
             ],
             [
              0.8888888888888888,
              "#fdca26"
             ],
             [
              1,
              "#f0f921"
             ]
            ],
            "type": "histogram2d"
           }
          ],
          "histogram2dcontour": [
           {
            "colorbar": {
             "outlinewidth": 0,
             "ticks": ""
            },
            "colorscale": [
             [
              0,
              "#0d0887"
             ],
             [
              0.1111111111111111,
              "#46039f"
             ],
             [
              0.2222222222222222,
              "#7201a8"
             ],
             [
              0.3333333333333333,
              "#9c179e"
             ],
             [
              0.4444444444444444,
              "#bd3786"
             ],
             [
              0.5555555555555556,
              "#d8576b"
             ],
             [
              0.6666666666666666,
              "#ed7953"
             ],
             [
              0.7777777777777778,
              "#fb9f3a"
             ],
             [
              0.8888888888888888,
              "#fdca26"
             ],
             [
              1,
              "#f0f921"
             ]
            ],
            "type": "histogram2dcontour"
           }
          ],
          "mesh3d": [
           {
            "colorbar": {
             "outlinewidth": 0,
             "ticks": ""
            },
            "type": "mesh3d"
           }
          ],
          "parcoords": [
           {
            "line": {
             "colorbar": {
              "outlinewidth": 0,
              "ticks": ""
             }
            },
            "type": "parcoords"
           }
          ],
          "pie": [
           {
            "automargin": true,
            "type": "pie"
           }
          ],
          "scatter": [
           {
            "marker": {
             "line": {
              "color": "#283442"
             }
            },
            "type": "scatter"
           }
          ],
          "scatter3d": [
           {
            "line": {
             "colorbar": {
              "outlinewidth": 0,
              "ticks": ""
             }
            },
            "marker": {
             "colorbar": {
              "outlinewidth": 0,
              "ticks": ""
             }
            },
            "type": "scatter3d"
           }
          ],
          "scattercarpet": [
           {
            "marker": {
             "colorbar": {
              "outlinewidth": 0,
              "ticks": ""
             }
            },
            "type": "scattercarpet"
           }
          ],
          "scattergeo": [
           {
            "marker": {
             "colorbar": {
              "outlinewidth": 0,
              "ticks": ""
             }
            },
            "type": "scattergeo"
           }
          ],
          "scattergl": [
           {
            "marker": {
             "line": {
              "color": "#283442"
             }
            },
            "type": "scattergl"
           }
          ],
          "scattermapbox": [
           {
            "marker": {
             "colorbar": {
              "outlinewidth": 0,
              "ticks": ""
             }
            },
            "type": "scattermapbox"
           }
          ],
          "scatterpolar": [
           {
            "marker": {
             "colorbar": {
              "outlinewidth": 0,
              "ticks": ""
             }
            },
            "type": "scatterpolar"
           }
          ],
          "scatterpolargl": [
           {
            "marker": {
             "colorbar": {
              "outlinewidth": 0,
              "ticks": ""
             }
            },
            "type": "scatterpolargl"
           }
          ],
          "scatterternary": [
           {
            "marker": {
             "colorbar": {
              "outlinewidth": 0,
              "ticks": ""
             }
            },
            "type": "scatterternary"
           }
          ],
          "surface": [
           {
            "colorbar": {
             "outlinewidth": 0,
             "ticks": ""
            },
            "colorscale": [
             [
              0,
              "#0d0887"
             ],
             [
              0.1111111111111111,
              "#46039f"
             ],
             [
              0.2222222222222222,
              "#7201a8"
             ],
             [
              0.3333333333333333,
              "#9c179e"
             ],
             [
              0.4444444444444444,
              "#bd3786"
             ],
             [
              0.5555555555555556,
              "#d8576b"
             ],
             [
              0.6666666666666666,
              "#ed7953"
             ],
             [
              0.7777777777777778,
              "#fb9f3a"
             ],
             [
              0.8888888888888888,
              "#fdca26"
             ],
             [
              1,
              "#f0f921"
             ]
            ],
            "type": "surface"
           }
          ],
          "table": [
           {
            "cells": {
             "fill": {
              "color": "#506784"
             },
             "line": {
              "color": "rgb(17,17,17)"
             }
            },
            "header": {
             "fill": {
              "color": "#2a3f5f"
             },
             "line": {
              "color": "rgb(17,17,17)"
             }
            },
            "type": "table"
           }
          ]
         },
         "layout": {
          "annotationdefaults": {
           "arrowcolor": "#f2f5fa",
           "arrowhead": 0,
           "arrowwidth": 1
          },
          "autotypenumbers": "strict",
          "coloraxis": {
           "colorbar": {
            "outlinewidth": 0,
            "ticks": ""
           }
          },
          "colorscale": {
           "diverging": [
            [
             0,
             "#8e0152"
            ],
            [
             0.1,
             "#c51b7d"
            ],
            [
             0.2,
             "#de77ae"
            ],
            [
             0.3,
             "#f1b6da"
            ],
            [
             0.4,
             "#fde0ef"
            ],
            [
             0.5,
             "#f7f7f7"
            ],
            [
             0.6,
             "#e6f5d0"
            ],
            [
             0.7,
             "#b8e186"
            ],
            [
             0.8,
             "#7fbc41"
            ],
            [
             0.9,
             "#4d9221"
            ],
            [
             1,
             "#276419"
            ]
           ],
           "sequential": [
            [
             0,
             "#0d0887"
            ],
            [
             0.1111111111111111,
             "#46039f"
            ],
            [
             0.2222222222222222,
             "#7201a8"
            ],
            [
             0.3333333333333333,
             "#9c179e"
            ],
            [
             0.4444444444444444,
             "#bd3786"
            ],
            [
             0.5555555555555556,
             "#d8576b"
            ],
            [
             0.6666666666666666,
             "#ed7953"
            ],
            [
             0.7777777777777778,
             "#fb9f3a"
            ],
            [
             0.8888888888888888,
             "#fdca26"
            ],
            [
             1,
             "#f0f921"
            ]
           ],
           "sequentialminus": [
            [
             0,
             "#0d0887"
            ],
            [
             0.1111111111111111,
             "#46039f"
            ],
            [
             0.2222222222222222,
             "#7201a8"
            ],
            [
             0.3333333333333333,
             "#9c179e"
            ],
            [
             0.4444444444444444,
             "#bd3786"
            ],
            [
             0.5555555555555556,
             "#d8576b"
            ],
            [
             0.6666666666666666,
             "#ed7953"
            ],
            [
             0.7777777777777778,
             "#fb9f3a"
            ],
            [
             0.8888888888888888,
             "#fdca26"
            ],
            [
             1,
             "#f0f921"
            ]
           ]
          },
          "colorway": [
           "#636efa",
           "#EF553B",
           "#00cc96",
           "#ab63fa",
           "#FFA15A",
           "#19d3f3",
           "#FF6692",
           "#B6E880",
           "#FF97FF",
           "#FECB52"
          ],
          "font": {
           "color": "#f2f5fa"
          },
          "geo": {
           "bgcolor": "rgb(17,17,17)",
           "lakecolor": "rgb(17,17,17)",
           "landcolor": "rgb(17,17,17)",
           "showlakes": true,
           "showland": true,
           "subunitcolor": "#506784"
          },
          "hoverlabel": {
           "align": "left"
          },
          "hovermode": "closest",
          "mapbox": {
           "style": "dark"
          },
          "paper_bgcolor": "rgb(17,17,17)",
          "plot_bgcolor": "rgb(17,17,17)",
          "polar": {
           "angularaxis": {
            "gridcolor": "#506784",
            "linecolor": "#506784",
            "ticks": ""
           },
           "bgcolor": "rgb(17,17,17)",
           "radialaxis": {
            "gridcolor": "#506784",
            "linecolor": "#506784",
            "ticks": ""
           }
          },
          "scene": {
           "xaxis": {
            "backgroundcolor": "rgb(17,17,17)",
            "gridcolor": "#506784",
            "gridwidth": 2,
            "linecolor": "#506784",
            "showbackground": true,
            "ticks": "",
            "zerolinecolor": "#C8D4E3"
           },
           "yaxis": {
            "backgroundcolor": "rgb(17,17,17)",
            "gridcolor": "#506784",
            "gridwidth": 2,
            "linecolor": "#506784",
            "showbackground": true,
            "ticks": "",
            "zerolinecolor": "#C8D4E3"
           },
           "zaxis": {
            "backgroundcolor": "rgb(17,17,17)",
            "gridcolor": "#506784",
            "gridwidth": 2,
            "linecolor": "#506784",
            "showbackground": true,
            "ticks": "",
            "zerolinecolor": "#C8D4E3"
           }
          },
          "shapedefaults": {
           "line": {
            "color": "#f2f5fa"
           }
          },
          "sliderdefaults": {
           "bgcolor": "#C8D4E3",
           "bordercolor": "rgb(17,17,17)",
           "borderwidth": 1,
           "tickwidth": 0
          },
          "ternary": {
           "aaxis": {
            "gridcolor": "#506784",
            "linecolor": "#506784",
            "ticks": ""
           },
           "baxis": {
            "gridcolor": "#506784",
            "linecolor": "#506784",
            "ticks": ""
           },
           "bgcolor": "rgb(17,17,17)",
           "caxis": {
            "gridcolor": "#506784",
            "linecolor": "#506784",
            "ticks": ""
           }
          },
          "title": {
           "x": 0.05
          },
          "updatemenudefaults": {
           "bgcolor": "#506784",
           "borderwidth": 0
          },
          "xaxis": {
           "automargin": true,
           "gridcolor": "#283442",
           "linecolor": "#506784",
           "ticks": "",
           "title": {
            "standoff": 15
           },
           "zerolinecolor": "#283442",
           "zerolinewidth": 2
          },
          "yaxis": {
           "automargin": true,
           "gridcolor": "#283442",
           "linecolor": "#506784",
           "ticks": "",
           "title": {
            "standoff": 15
           },
           "zerolinecolor": "#283442",
           "zerolinewidth": 2
          }
         }
        },
        "width": 400,
        "xaxis": {
         "anchor": "y",
         "domain": [
          0,
          0.98
         ],
         "title": {}
        },
        "xaxis2": {
         "anchor": "y2",
         "domain": [
          0,
          0.98
         ],
         "matches": "x",
         "showticklabels": false
        },
        "yaxis": {
         "anchor": "x",
         "domain": [
          0,
          0.485
         ],
         "title": {
          "text": ""
         }
        },
        "yaxis2": {
         "anchor": "x2",
         "domain": [
          0.515,
          1
         ],
         "matches": "y"
        }
       }
      }
     },
     "metadata": {},
     "output_type": "display_data"
    }
   ],
   "source": [
    "import plotly.express as px\n",
    "\n",
    "margin = dict(l=20,r=20,b=0,t=40)\n",
    "df = asambleistas[['EDAD','SEXO','NAME']]\n",
    "df = df[df['EDAD'] > 0]\n",
    "fig_edad_resume = px.box(df, x=\"EDAD\",facet_row=\"SEXO\", color=\"SEXO\", points=\"all\", color_discrete_map={'FEMENINO':'rgba( 178, 90, 122 ,1)','MASCULINO':'rgba(  65, 78, 115 , 1)'}, \n",
    "          hover_data=df.columns, height=200, width=400, template=\"plotly_dark\")\n",
    "fig_edad_resume.update_layout(legend_title=\"\", autosize=True, showlegend=False,yaxis_title='',xaxis_title=None,)\n",
    "fig_edad_resume.for_each_annotation(lambda a: a.update(text=a.text.replace(\"SEXO=MASCULINO\", \"\")))\n",
    "fig_edad_resume.for_each_annotation(lambda a: a.update(text=a.text.replace(\"SEXO=FEMENINO\", \"\")))\n",
    "fig_edad_resume.show()"
   ]
  },
  {
   "cell_type": "code",
   "execution_count": 17,
   "metadata": {},
   "outputs": [
    {
     "data": {
      "application/vnd.plotly.v1+json": {
       "config": {
        "plotlyServerURL": "https://plot.ly"
       },
       "data": [
        {
         "alignmentgroup": "True",
         "customdata": [
          [
           1,
           "AFROECUATORIANO/A",
           "FEMENINO"
          ],
          [
           5,
           "INDIGENA",
           "FEMENINO"
          ],
          [
           49,
           "MESTIZO/A",
           "FEMENINO"
          ],
          [
           2,
           "MONTUBIO/A",
           "FEMENINO"
          ],
          [
           3,
           "NINGUNO",
           "FEMENINO"
          ]
         ],
         "hovertemplate": "SEXO=FEMENINO<br>ETNIA=%{x}<br>VALUE=%{y}<extra></extra>",
         "legendgroup": "FEMENINO",
         "marker": {
          "color": "rgba( 178, 90, 122 ,1)",
          "pattern": {
           "shape": ""
          }
         },
         "name": "FEMENINO",
         "offsetgroup": "FEMENINO",
         "orientation": "v",
         "showlegend": true,
         "textposition": "auto",
         "type": "bar",
         "x": [
          "AFROECUATORIANO/A",
          "INDIGENA",
          "MESTIZO/A",
          "MONTUBIO/A",
          "NINGUNO"
         ],
         "xaxis": "x",
         "y": [
          1,
          5,
          49,
          2,
          3
         ],
         "yaxis": "y"
        },
        {
         "alignmentgroup": "True",
         "customdata": [
          [
           1,
           "AFROECUATORIANO/A",
           "MASCULINO"
          ],
          [
           1,
           "BLANCO/A",
           "MASCULINO"
          ],
          [
           6,
           "INDIGENA",
           "MASCULINO"
          ],
          [
           63,
           "MESTIZO/A",
           "MASCULINO"
          ],
          [
           2,
           "MONTUBIO/A",
           "MASCULINO"
          ],
          [
           3,
           "NINGUNO",
           "MASCULINO"
          ],
          [
           1,
           "OTRO-A",
           "MASCULINO"
          ]
         ],
         "hovertemplate": "SEXO=MASCULINO<br>ETNIA=%{x}<br>VALUE=%{y}<extra></extra>",
         "legendgroup": "MASCULINO",
         "marker": {
          "color": "rgba(  65, 78, 115 , 1)",
          "pattern": {
           "shape": ""
          }
         },
         "name": "MASCULINO",
         "offsetgroup": "MASCULINO",
         "orientation": "v",
         "showlegend": true,
         "textposition": "auto",
         "type": "bar",
         "x": [
          "AFROECUATORIANO/A",
          "BLANCO/A",
          "INDIGENA",
          "MESTIZO/A",
          "MONTUBIO/A",
          "NINGUNO",
          "OTRO-A"
         ],
         "xaxis": "x",
         "y": [
          1,
          1,
          6,
          63,
          2,
          3,
          1
         ],
         "yaxis": "y"
        }
       ],
       "layout": {
        "autosize": true,
        "barmode": "relative",
        "height": 400,
        "legend": {
         "font": {
          "size": 10
         },
         "orientation": "h",
         "title": {
          "text": ""
         },
         "tracegroupgap": 0,
         "x": 1,
         "xanchor": "right",
         "y": 0.99,
         "yanchor": "bottom"
        },
        "margin": {
         "t": 60
        },
        "template": {
         "data": {
          "bar": [
           {
            "error_x": {
             "color": "#f2f5fa"
            },
            "error_y": {
             "color": "#f2f5fa"
            },
            "marker": {
             "line": {
              "color": "rgb(17,17,17)",
              "width": 0.5
             },
             "pattern": {
              "fillmode": "overlay",
              "size": 10,
              "solidity": 0.2
             }
            },
            "type": "bar"
           }
          ],
          "barpolar": [
           {
            "marker": {
             "line": {
              "color": "rgb(17,17,17)",
              "width": 0.5
             },
             "pattern": {
              "fillmode": "overlay",
              "size": 10,
              "solidity": 0.2
             }
            },
            "type": "barpolar"
           }
          ],
          "carpet": [
           {
            "aaxis": {
             "endlinecolor": "#A2B1C6",
             "gridcolor": "#506784",
             "linecolor": "#506784",
             "minorgridcolor": "#506784",
             "startlinecolor": "#A2B1C6"
            },
            "baxis": {
             "endlinecolor": "#A2B1C6",
             "gridcolor": "#506784",
             "linecolor": "#506784",
             "minorgridcolor": "#506784",
             "startlinecolor": "#A2B1C6"
            },
            "type": "carpet"
           }
          ],
          "choropleth": [
           {
            "colorbar": {
             "outlinewidth": 0,
             "ticks": ""
            },
            "type": "choropleth"
           }
          ],
          "contour": [
           {
            "colorbar": {
             "outlinewidth": 0,
             "ticks": ""
            },
            "colorscale": [
             [
              0,
              "#0d0887"
             ],
             [
              0.1111111111111111,
              "#46039f"
             ],
             [
              0.2222222222222222,
              "#7201a8"
             ],
             [
              0.3333333333333333,
              "#9c179e"
             ],
             [
              0.4444444444444444,
              "#bd3786"
             ],
             [
              0.5555555555555556,
              "#d8576b"
             ],
             [
              0.6666666666666666,
              "#ed7953"
             ],
             [
              0.7777777777777778,
              "#fb9f3a"
             ],
             [
              0.8888888888888888,
              "#fdca26"
             ],
             [
              1,
              "#f0f921"
             ]
            ],
            "type": "contour"
           }
          ],
          "contourcarpet": [
           {
            "colorbar": {
             "outlinewidth": 0,
             "ticks": ""
            },
            "type": "contourcarpet"
           }
          ],
          "heatmap": [
           {
            "colorbar": {
             "outlinewidth": 0,
             "ticks": ""
            },
            "colorscale": [
             [
              0,
              "#0d0887"
             ],
             [
              0.1111111111111111,
              "#46039f"
             ],
             [
              0.2222222222222222,
              "#7201a8"
             ],
             [
              0.3333333333333333,
              "#9c179e"
             ],
             [
              0.4444444444444444,
              "#bd3786"
             ],
             [
              0.5555555555555556,
              "#d8576b"
             ],
             [
              0.6666666666666666,
              "#ed7953"
             ],
             [
              0.7777777777777778,
              "#fb9f3a"
             ],
             [
              0.8888888888888888,
              "#fdca26"
             ],
             [
              1,
              "#f0f921"
             ]
            ],
            "type": "heatmap"
           }
          ],
          "heatmapgl": [
           {
            "colorbar": {
             "outlinewidth": 0,
             "ticks": ""
            },
            "colorscale": [
             [
              0,
              "#0d0887"
             ],
             [
              0.1111111111111111,
              "#46039f"
             ],
             [
              0.2222222222222222,
              "#7201a8"
             ],
             [
              0.3333333333333333,
              "#9c179e"
             ],
             [
              0.4444444444444444,
              "#bd3786"
             ],
             [
              0.5555555555555556,
              "#d8576b"
             ],
             [
              0.6666666666666666,
              "#ed7953"
             ],
             [
              0.7777777777777778,
              "#fb9f3a"
             ],
             [
              0.8888888888888888,
              "#fdca26"
             ],
             [
              1,
              "#f0f921"
             ]
            ],
            "type": "heatmapgl"
           }
          ],
          "histogram": [
           {
            "marker": {
             "pattern": {
              "fillmode": "overlay",
              "size": 10,
              "solidity": 0.2
             }
            },
            "type": "histogram"
           }
          ],
          "histogram2d": [
           {
            "colorbar": {
             "outlinewidth": 0,
             "ticks": ""
            },
            "colorscale": [
             [
              0,
              "#0d0887"
             ],
             [
              0.1111111111111111,
              "#46039f"
             ],
             [
              0.2222222222222222,
              "#7201a8"
             ],
             [
              0.3333333333333333,
              "#9c179e"
             ],
             [
              0.4444444444444444,
              "#bd3786"
             ],
             [
              0.5555555555555556,
              "#d8576b"
             ],
             [
              0.6666666666666666,
              "#ed7953"
             ],
             [
              0.7777777777777778,
              "#fb9f3a"
             ],
             [
              0.8888888888888888,
              "#fdca26"
             ],
             [
              1,
              "#f0f921"
             ]
            ],
            "type": "histogram2d"
           }
          ],
          "histogram2dcontour": [
           {
            "colorbar": {
             "outlinewidth": 0,
             "ticks": ""
            },
            "colorscale": [
             [
              0,
              "#0d0887"
             ],
             [
              0.1111111111111111,
              "#46039f"
             ],
             [
              0.2222222222222222,
              "#7201a8"
             ],
             [
              0.3333333333333333,
              "#9c179e"
             ],
             [
              0.4444444444444444,
              "#bd3786"
             ],
             [
              0.5555555555555556,
              "#d8576b"
             ],
             [
              0.6666666666666666,
              "#ed7953"
             ],
             [
              0.7777777777777778,
              "#fb9f3a"
             ],
             [
              0.8888888888888888,
              "#fdca26"
             ],
             [
              1,
              "#f0f921"
             ]
            ],
            "type": "histogram2dcontour"
           }
          ],
          "mesh3d": [
           {
            "colorbar": {
             "outlinewidth": 0,
             "ticks": ""
            },
            "type": "mesh3d"
           }
          ],
          "parcoords": [
           {
            "line": {
             "colorbar": {
              "outlinewidth": 0,
              "ticks": ""
             }
            },
            "type": "parcoords"
           }
          ],
          "pie": [
           {
            "automargin": true,
            "type": "pie"
           }
          ],
          "scatter": [
           {
            "marker": {
             "line": {
              "color": "#283442"
             }
            },
            "type": "scatter"
           }
          ],
          "scatter3d": [
           {
            "line": {
             "colorbar": {
              "outlinewidth": 0,
              "ticks": ""
             }
            },
            "marker": {
             "colorbar": {
              "outlinewidth": 0,
              "ticks": ""
             }
            },
            "type": "scatter3d"
           }
          ],
          "scattercarpet": [
           {
            "marker": {
             "colorbar": {
              "outlinewidth": 0,
              "ticks": ""
             }
            },
            "type": "scattercarpet"
           }
          ],
          "scattergeo": [
           {
            "marker": {
             "colorbar": {
              "outlinewidth": 0,
              "ticks": ""
             }
            },
            "type": "scattergeo"
           }
          ],
          "scattergl": [
           {
            "marker": {
             "line": {
              "color": "#283442"
             }
            },
            "type": "scattergl"
           }
          ],
          "scattermapbox": [
           {
            "marker": {
             "colorbar": {
              "outlinewidth": 0,
              "ticks": ""
             }
            },
            "type": "scattermapbox"
           }
          ],
          "scatterpolar": [
           {
            "marker": {
             "colorbar": {
              "outlinewidth": 0,
              "ticks": ""
             }
            },
            "type": "scatterpolar"
           }
          ],
          "scatterpolargl": [
           {
            "marker": {
             "colorbar": {
              "outlinewidth": 0,
              "ticks": ""
             }
            },
            "type": "scatterpolargl"
           }
          ],
          "scatterternary": [
           {
            "marker": {
             "colorbar": {
              "outlinewidth": 0,
              "ticks": ""
             }
            },
            "type": "scatterternary"
           }
          ],
          "surface": [
           {
            "colorbar": {
             "outlinewidth": 0,
             "ticks": ""
            },
            "colorscale": [
             [
              0,
              "#0d0887"
             ],
             [
              0.1111111111111111,
              "#46039f"
             ],
             [
              0.2222222222222222,
              "#7201a8"
             ],
             [
              0.3333333333333333,
              "#9c179e"
             ],
             [
              0.4444444444444444,
              "#bd3786"
             ],
             [
              0.5555555555555556,
              "#d8576b"
             ],
             [
              0.6666666666666666,
              "#ed7953"
             ],
             [
              0.7777777777777778,
              "#fb9f3a"
             ],
             [
              0.8888888888888888,
              "#fdca26"
             ],
             [
              1,
              "#f0f921"
             ]
            ],
            "type": "surface"
           }
          ],
          "table": [
           {
            "cells": {
             "fill": {
              "color": "#506784"
             },
             "line": {
              "color": "rgb(17,17,17)"
             }
            },
            "header": {
             "fill": {
              "color": "#2a3f5f"
             },
             "line": {
              "color": "rgb(17,17,17)"
             }
            },
            "type": "table"
           }
          ]
         },
         "layout": {
          "annotationdefaults": {
           "arrowcolor": "#f2f5fa",
           "arrowhead": 0,
           "arrowwidth": 1
          },
          "autotypenumbers": "strict",
          "coloraxis": {
           "colorbar": {
            "outlinewidth": 0,
            "ticks": ""
           }
          },
          "colorscale": {
           "diverging": [
            [
             0,
             "#8e0152"
            ],
            [
             0.1,
             "#c51b7d"
            ],
            [
             0.2,
             "#de77ae"
            ],
            [
             0.3,
             "#f1b6da"
            ],
            [
             0.4,
             "#fde0ef"
            ],
            [
             0.5,
             "#f7f7f7"
            ],
            [
             0.6,
             "#e6f5d0"
            ],
            [
             0.7,
             "#b8e186"
            ],
            [
             0.8,
             "#7fbc41"
            ],
            [
             0.9,
             "#4d9221"
            ],
            [
             1,
             "#276419"
            ]
           ],
           "sequential": [
            [
             0,
             "#0d0887"
            ],
            [
             0.1111111111111111,
             "#46039f"
            ],
            [
             0.2222222222222222,
             "#7201a8"
            ],
            [
             0.3333333333333333,
             "#9c179e"
            ],
            [
             0.4444444444444444,
             "#bd3786"
            ],
            [
             0.5555555555555556,
             "#d8576b"
            ],
            [
             0.6666666666666666,
             "#ed7953"
            ],
            [
             0.7777777777777778,
             "#fb9f3a"
            ],
            [
             0.8888888888888888,
             "#fdca26"
            ],
            [
             1,
             "#f0f921"
            ]
           ],
           "sequentialminus": [
            [
             0,
             "#0d0887"
            ],
            [
             0.1111111111111111,
             "#46039f"
            ],
            [
             0.2222222222222222,
             "#7201a8"
            ],
            [
             0.3333333333333333,
             "#9c179e"
            ],
            [
             0.4444444444444444,
             "#bd3786"
            ],
            [
             0.5555555555555556,
             "#d8576b"
            ],
            [
             0.6666666666666666,
             "#ed7953"
            ],
            [
             0.7777777777777778,
             "#fb9f3a"
            ],
            [
             0.8888888888888888,
             "#fdca26"
            ],
            [
             1,
             "#f0f921"
            ]
           ]
          },
          "colorway": [
           "#636efa",
           "#EF553B",
           "#00cc96",
           "#ab63fa",
           "#FFA15A",
           "#19d3f3",
           "#FF6692",
           "#B6E880",
           "#FF97FF",
           "#FECB52"
          ],
          "font": {
           "color": "#f2f5fa"
          },
          "geo": {
           "bgcolor": "rgb(17,17,17)",
           "lakecolor": "rgb(17,17,17)",
           "landcolor": "rgb(17,17,17)",
           "showlakes": true,
           "showland": true,
           "subunitcolor": "#506784"
          },
          "hoverlabel": {
           "align": "left"
          },
          "hovermode": "closest",
          "mapbox": {
           "style": "dark"
          },
          "paper_bgcolor": "rgb(17,17,17)",
          "plot_bgcolor": "rgb(17,17,17)",
          "polar": {
           "angularaxis": {
            "gridcolor": "#506784",
            "linecolor": "#506784",
            "ticks": ""
           },
           "bgcolor": "rgb(17,17,17)",
           "radialaxis": {
            "gridcolor": "#506784",
            "linecolor": "#506784",
            "ticks": ""
           }
          },
          "scene": {
           "xaxis": {
            "backgroundcolor": "rgb(17,17,17)",
            "gridcolor": "#506784",
            "gridwidth": 2,
            "linecolor": "#506784",
            "showbackground": true,
            "ticks": "",
            "zerolinecolor": "#C8D4E3"
           },
           "yaxis": {
            "backgroundcolor": "rgb(17,17,17)",
            "gridcolor": "#506784",
            "gridwidth": 2,
            "linecolor": "#506784",
            "showbackground": true,
            "ticks": "",
            "zerolinecolor": "#C8D4E3"
           },
           "zaxis": {
            "backgroundcolor": "rgb(17,17,17)",
            "gridcolor": "#506784",
            "gridwidth": 2,
            "linecolor": "#506784",
            "showbackground": true,
            "ticks": "",
            "zerolinecolor": "#C8D4E3"
           }
          },
          "shapedefaults": {
           "line": {
            "color": "#f2f5fa"
           }
          },
          "sliderdefaults": {
           "bgcolor": "#C8D4E3",
           "bordercolor": "rgb(17,17,17)",
           "borderwidth": 1,
           "tickwidth": 0
          },
          "ternary": {
           "aaxis": {
            "gridcolor": "#506784",
            "linecolor": "#506784",
            "ticks": ""
           },
           "baxis": {
            "gridcolor": "#506784",
            "linecolor": "#506784",
            "ticks": ""
           },
           "bgcolor": "rgb(17,17,17)",
           "caxis": {
            "gridcolor": "#506784",
            "linecolor": "#506784",
            "ticks": ""
           }
          },
          "title": {
           "x": 0.05
          },
          "updatemenudefaults": {
           "bgcolor": "#506784",
           "borderwidth": 0
          },
          "xaxis": {
           "automargin": true,
           "gridcolor": "#283442",
           "linecolor": "#506784",
           "ticks": "",
           "title": {
            "standoff": 15
           },
           "zerolinecolor": "#283442",
           "zerolinewidth": 2
          },
          "yaxis": {
           "automargin": true,
           "gridcolor": "#283442",
           "linecolor": "#506784",
           "ticks": "",
           "title": {
            "standoff": 15
           },
           "zerolinecolor": "#283442",
           "zerolinewidth": 2
          }
         }
        },
        "width": 400,
        "xaxis": {
         "anchor": "y",
         "domain": [
          0,
          1
         ],
         "showticklabels": true,
         "tickfont": {
          "size": 10
         },
         "title": {},
         "visible": true
        },
        "yaxis": {
         "anchor": "x",
         "domain": [
          0,
          1
         ],
         "title": {}
        }
       }
      }
     },
     "metadata": {},
     "output_type": "display_data"
    }
   ],
   "source": [
    "df_etnia = asambleistas.groupby(['SEXO','ETNIA'])['ETNIA'].count().reset_index(name='VALUE')\n",
    "fig_etnia = px.bar(df_etnia, x='ETNIA', y='VALUE', color='SEXO', \n",
    "                   color_discrete_map={'FEMENINO':'rgba( 178, 90, 122 ,1)','MASCULINO':'rgba(  65, 78, 115 , 1)'}, \n",
    "               custom_data=['VALUE','ETNIA','SEXO'],height=400, width=400, template=\"plotly_dark\")\n",
    "legend_type_2 = dict(title_font_family=\"Times New Roman\",font=dict(size= 10),orientation=\"h\",yanchor=\"bottom\",y=0.99,x=1,xanchor=\"right\")\n",
    "fig_etnia.update_layout(legend=legend_type_2,legend_title=\"\",autosize=True,yaxis_title=None,xaxis_title=None,)\n",
    "fig_etnia.update_xaxes(visible=True, showticklabels=True, tickfont_size=10)\n",
    "fig_etnia.show()"
   ]
  },
  {
   "cell_type": "code",
   "execution_count": 18,
   "metadata": {},
   "outputs": [
    {
     "data": {
      "application/vnd.plotly.v1+json": {
       "config": {
        "plotlyServerURL": "https://plot.ly"
       },
       "data": [
        {
         "customdata": [
          [
           "FEMENINO"
          ],
          [
           "MASCULINO"
          ]
         ],
         "domain": {
          "x": [
           0,
           1
          ],
          "y": [
           0,
           1
          ]
         },
         "hole": 0.5,
         "hovertemplate": "SEXO=%{customdata[0]}<br>VALUE=%{value}<extra></extra>",
         "labels": [
          "FEMENINO",
          "MASCULINO"
         ],
         "legendgroup": "",
         "marker": {
          "colors": [
           "rgba( 178, 90, 122 ,1)",
           "rgba(  65, 78, 115 , 1)"
          ]
         },
         "name": "",
         "showlegend": true,
         "type": "pie",
         "values": [
          60,
          77
         ]
        }
       ],
       "layout": {
        "autosize": true,
        "height": 400,
        "legend": {
         "font": {
          "size": 10
         },
         "orientation": "h",
         "title": {
          "text": ""
         },
         "tracegroupgap": 0,
         "x": 1,
         "xanchor": "right",
         "y": 0.99,
         "yanchor": "bottom"
        },
        "margin": {
         "t": 60
        },
        "template": {
         "data": {
          "bar": [
           {
            "error_x": {
             "color": "#f2f5fa"
            },
            "error_y": {
             "color": "#f2f5fa"
            },
            "marker": {
             "line": {
              "color": "rgb(17,17,17)",
              "width": 0.5
             },
             "pattern": {
              "fillmode": "overlay",
              "size": 10,
              "solidity": 0.2
             }
            },
            "type": "bar"
           }
          ],
          "barpolar": [
           {
            "marker": {
             "line": {
              "color": "rgb(17,17,17)",
              "width": 0.5
             },
             "pattern": {
              "fillmode": "overlay",
              "size": 10,
              "solidity": 0.2
             }
            },
            "type": "barpolar"
           }
          ],
          "carpet": [
           {
            "aaxis": {
             "endlinecolor": "#A2B1C6",
             "gridcolor": "#506784",
             "linecolor": "#506784",
             "minorgridcolor": "#506784",
             "startlinecolor": "#A2B1C6"
            },
            "baxis": {
             "endlinecolor": "#A2B1C6",
             "gridcolor": "#506784",
             "linecolor": "#506784",
             "minorgridcolor": "#506784",
             "startlinecolor": "#A2B1C6"
            },
            "type": "carpet"
           }
          ],
          "choropleth": [
           {
            "colorbar": {
             "outlinewidth": 0,
             "ticks": ""
            },
            "type": "choropleth"
           }
          ],
          "contour": [
           {
            "colorbar": {
             "outlinewidth": 0,
             "ticks": ""
            },
            "colorscale": [
             [
              0,
              "#0d0887"
             ],
             [
              0.1111111111111111,
              "#46039f"
             ],
             [
              0.2222222222222222,
              "#7201a8"
             ],
             [
              0.3333333333333333,
              "#9c179e"
             ],
             [
              0.4444444444444444,
              "#bd3786"
             ],
             [
              0.5555555555555556,
              "#d8576b"
             ],
             [
              0.6666666666666666,
              "#ed7953"
             ],
             [
              0.7777777777777778,
              "#fb9f3a"
             ],
             [
              0.8888888888888888,
              "#fdca26"
             ],
             [
              1,
              "#f0f921"
             ]
            ],
            "type": "contour"
           }
          ],
          "contourcarpet": [
           {
            "colorbar": {
             "outlinewidth": 0,
             "ticks": ""
            },
            "type": "contourcarpet"
           }
          ],
          "heatmap": [
           {
            "colorbar": {
             "outlinewidth": 0,
             "ticks": ""
            },
            "colorscale": [
             [
              0,
              "#0d0887"
             ],
             [
              0.1111111111111111,
              "#46039f"
             ],
             [
              0.2222222222222222,
              "#7201a8"
             ],
             [
              0.3333333333333333,
              "#9c179e"
             ],
             [
              0.4444444444444444,
              "#bd3786"
             ],
             [
              0.5555555555555556,
              "#d8576b"
             ],
             [
              0.6666666666666666,
              "#ed7953"
             ],
             [
              0.7777777777777778,
              "#fb9f3a"
             ],
             [
              0.8888888888888888,
              "#fdca26"
             ],
             [
              1,
              "#f0f921"
             ]
            ],
            "type": "heatmap"
           }
          ],
          "heatmapgl": [
           {
            "colorbar": {
             "outlinewidth": 0,
             "ticks": ""
            },
            "colorscale": [
             [
              0,
              "#0d0887"
             ],
             [
              0.1111111111111111,
              "#46039f"
             ],
             [
              0.2222222222222222,
              "#7201a8"
             ],
             [
              0.3333333333333333,
              "#9c179e"
             ],
             [
              0.4444444444444444,
              "#bd3786"
             ],
             [
              0.5555555555555556,
              "#d8576b"
             ],
             [
              0.6666666666666666,
              "#ed7953"
             ],
             [
              0.7777777777777778,
              "#fb9f3a"
             ],
             [
              0.8888888888888888,
              "#fdca26"
             ],
             [
              1,
              "#f0f921"
             ]
            ],
            "type": "heatmapgl"
           }
          ],
          "histogram": [
           {
            "marker": {
             "pattern": {
              "fillmode": "overlay",
              "size": 10,
              "solidity": 0.2
             }
            },
            "type": "histogram"
           }
          ],
          "histogram2d": [
           {
            "colorbar": {
             "outlinewidth": 0,
             "ticks": ""
            },
            "colorscale": [
             [
              0,
              "#0d0887"
             ],
             [
              0.1111111111111111,
              "#46039f"
             ],
             [
              0.2222222222222222,
              "#7201a8"
             ],
             [
              0.3333333333333333,
              "#9c179e"
             ],
             [
              0.4444444444444444,
              "#bd3786"
             ],
             [
              0.5555555555555556,
              "#d8576b"
             ],
             [
              0.6666666666666666,
              "#ed7953"
             ],
             [
              0.7777777777777778,
              "#fb9f3a"
             ],
             [
              0.8888888888888888,
              "#fdca26"
             ],
             [
              1,
              "#f0f921"
             ]
            ],
            "type": "histogram2d"
           }
          ],
          "histogram2dcontour": [
           {
            "colorbar": {
             "outlinewidth": 0,
             "ticks": ""
            },
            "colorscale": [
             [
              0,
              "#0d0887"
             ],
             [
              0.1111111111111111,
              "#46039f"
             ],
             [
              0.2222222222222222,
              "#7201a8"
             ],
             [
              0.3333333333333333,
              "#9c179e"
             ],
             [
              0.4444444444444444,
              "#bd3786"
             ],
             [
              0.5555555555555556,
              "#d8576b"
             ],
             [
              0.6666666666666666,
              "#ed7953"
             ],
             [
              0.7777777777777778,
              "#fb9f3a"
             ],
             [
              0.8888888888888888,
              "#fdca26"
             ],
             [
              1,
              "#f0f921"
             ]
            ],
            "type": "histogram2dcontour"
           }
          ],
          "mesh3d": [
           {
            "colorbar": {
             "outlinewidth": 0,
             "ticks": ""
            },
            "type": "mesh3d"
           }
          ],
          "parcoords": [
           {
            "line": {
             "colorbar": {
              "outlinewidth": 0,
              "ticks": ""
             }
            },
            "type": "parcoords"
           }
          ],
          "pie": [
           {
            "automargin": true,
            "type": "pie"
           }
          ],
          "scatter": [
           {
            "marker": {
             "line": {
              "color": "#283442"
             }
            },
            "type": "scatter"
           }
          ],
          "scatter3d": [
           {
            "line": {
             "colorbar": {
              "outlinewidth": 0,
              "ticks": ""
             }
            },
            "marker": {
             "colorbar": {
              "outlinewidth": 0,
              "ticks": ""
             }
            },
            "type": "scatter3d"
           }
          ],
          "scattercarpet": [
           {
            "marker": {
             "colorbar": {
              "outlinewidth": 0,
              "ticks": ""
             }
            },
            "type": "scattercarpet"
           }
          ],
          "scattergeo": [
           {
            "marker": {
             "colorbar": {
              "outlinewidth": 0,
              "ticks": ""
             }
            },
            "type": "scattergeo"
           }
          ],
          "scattergl": [
           {
            "marker": {
             "line": {
              "color": "#283442"
             }
            },
            "type": "scattergl"
           }
          ],
          "scattermapbox": [
           {
            "marker": {
             "colorbar": {
              "outlinewidth": 0,
              "ticks": ""
             }
            },
            "type": "scattermapbox"
           }
          ],
          "scatterpolar": [
           {
            "marker": {
             "colorbar": {
              "outlinewidth": 0,
              "ticks": ""
             }
            },
            "type": "scatterpolar"
           }
          ],
          "scatterpolargl": [
           {
            "marker": {
             "colorbar": {
              "outlinewidth": 0,
              "ticks": ""
             }
            },
            "type": "scatterpolargl"
           }
          ],
          "scatterternary": [
           {
            "marker": {
             "colorbar": {
              "outlinewidth": 0,
              "ticks": ""
             }
            },
            "type": "scatterternary"
           }
          ],
          "surface": [
           {
            "colorbar": {
             "outlinewidth": 0,
             "ticks": ""
            },
            "colorscale": [
             [
              0,
              "#0d0887"
             ],
             [
              0.1111111111111111,
              "#46039f"
             ],
             [
              0.2222222222222222,
              "#7201a8"
             ],
             [
              0.3333333333333333,
              "#9c179e"
             ],
             [
              0.4444444444444444,
              "#bd3786"
             ],
             [
              0.5555555555555556,
              "#d8576b"
             ],
             [
              0.6666666666666666,
              "#ed7953"
             ],
             [
              0.7777777777777778,
              "#fb9f3a"
             ],
             [
              0.8888888888888888,
              "#fdca26"
             ],
             [
              1,
              "#f0f921"
             ]
            ],
            "type": "surface"
           }
          ],
          "table": [
           {
            "cells": {
             "fill": {
              "color": "#506784"
             },
             "line": {
              "color": "rgb(17,17,17)"
             }
            },
            "header": {
             "fill": {
              "color": "#2a3f5f"
             },
             "line": {
              "color": "rgb(17,17,17)"
             }
            },
            "type": "table"
           }
          ]
         },
         "layout": {
          "annotationdefaults": {
           "arrowcolor": "#f2f5fa",
           "arrowhead": 0,
           "arrowwidth": 1
          },
          "autotypenumbers": "strict",
          "coloraxis": {
           "colorbar": {
            "outlinewidth": 0,
            "ticks": ""
           }
          },
          "colorscale": {
           "diverging": [
            [
             0,
             "#8e0152"
            ],
            [
             0.1,
             "#c51b7d"
            ],
            [
             0.2,
             "#de77ae"
            ],
            [
             0.3,
             "#f1b6da"
            ],
            [
             0.4,
             "#fde0ef"
            ],
            [
             0.5,
             "#f7f7f7"
            ],
            [
             0.6,
             "#e6f5d0"
            ],
            [
             0.7,
             "#b8e186"
            ],
            [
             0.8,
             "#7fbc41"
            ],
            [
             0.9,
             "#4d9221"
            ],
            [
             1,
             "#276419"
            ]
           ],
           "sequential": [
            [
             0,
             "#0d0887"
            ],
            [
             0.1111111111111111,
             "#46039f"
            ],
            [
             0.2222222222222222,
             "#7201a8"
            ],
            [
             0.3333333333333333,
             "#9c179e"
            ],
            [
             0.4444444444444444,
             "#bd3786"
            ],
            [
             0.5555555555555556,
             "#d8576b"
            ],
            [
             0.6666666666666666,
             "#ed7953"
            ],
            [
             0.7777777777777778,
             "#fb9f3a"
            ],
            [
             0.8888888888888888,
             "#fdca26"
            ],
            [
             1,
             "#f0f921"
            ]
           ],
           "sequentialminus": [
            [
             0,
             "#0d0887"
            ],
            [
             0.1111111111111111,
             "#46039f"
            ],
            [
             0.2222222222222222,
             "#7201a8"
            ],
            [
             0.3333333333333333,
             "#9c179e"
            ],
            [
             0.4444444444444444,
             "#bd3786"
            ],
            [
             0.5555555555555556,
             "#d8576b"
            ],
            [
             0.6666666666666666,
             "#ed7953"
            ],
            [
             0.7777777777777778,
             "#fb9f3a"
            ],
            [
             0.8888888888888888,
             "#fdca26"
            ],
            [
             1,
             "#f0f921"
            ]
           ]
          },
          "colorway": [
           "#636efa",
           "#EF553B",
           "#00cc96",
           "#ab63fa",
           "#FFA15A",
           "#19d3f3",
           "#FF6692",
           "#B6E880",
           "#FF97FF",
           "#FECB52"
          ],
          "font": {
           "color": "#f2f5fa"
          },
          "geo": {
           "bgcolor": "rgb(17,17,17)",
           "lakecolor": "rgb(17,17,17)",
           "landcolor": "rgb(17,17,17)",
           "showlakes": true,
           "showland": true,
           "subunitcolor": "#506784"
          },
          "hoverlabel": {
           "align": "left"
          },
          "hovermode": "closest",
          "mapbox": {
           "style": "dark"
          },
          "paper_bgcolor": "rgb(17,17,17)",
          "plot_bgcolor": "rgb(17,17,17)",
          "polar": {
           "angularaxis": {
            "gridcolor": "#506784",
            "linecolor": "#506784",
            "ticks": ""
           },
           "bgcolor": "rgb(17,17,17)",
           "radialaxis": {
            "gridcolor": "#506784",
            "linecolor": "#506784",
            "ticks": ""
           }
          },
          "scene": {
           "xaxis": {
            "backgroundcolor": "rgb(17,17,17)",
            "gridcolor": "#506784",
            "gridwidth": 2,
            "linecolor": "#506784",
            "showbackground": true,
            "ticks": "",
            "zerolinecolor": "#C8D4E3"
           },
           "yaxis": {
            "backgroundcolor": "rgb(17,17,17)",
            "gridcolor": "#506784",
            "gridwidth": 2,
            "linecolor": "#506784",
            "showbackground": true,
            "ticks": "",
            "zerolinecolor": "#C8D4E3"
           },
           "zaxis": {
            "backgroundcolor": "rgb(17,17,17)",
            "gridcolor": "#506784",
            "gridwidth": 2,
            "linecolor": "#506784",
            "showbackground": true,
            "ticks": "",
            "zerolinecolor": "#C8D4E3"
           }
          },
          "shapedefaults": {
           "line": {
            "color": "#f2f5fa"
           }
          },
          "sliderdefaults": {
           "bgcolor": "#C8D4E3",
           "bordercolor": "rgb(17,17,17)",
           "borderwidth": 1,
           "tickwidth": 0
          },
          "ternary": {
           "aaxis": {
            "gridcolor": "#506784",
            "linecolor": "#506784",
            "ticks": ""
           },
           "baxis": {
            "gridcolor": "#506784",
            "linecolor": "#506784",
            "ticks": ""
           },
           "bgcolor": "rgb(17,17,17)",
           "caxis": {
            "gridcolor": "#506784",
            "linecolor": "#506784",
            "ticks": ""
           }
          },
          "title": {
           "x": 0.05
          },
          "updatemenudefaults": {
           "bgcolor": "#506784",
           "borderwidth": 0
          },
          "xaxis": {
           "automargin": true,
           "gridcolor": "#283442",
           "linecolor": "#506784",
           "ticks": "",
           "title": {
            "standoff": 15
           },
           "zerolinecolor": "#283442",
           "zerolinewidth": 2
          },
          "yaxis": {
           "automargin": true,
           "gridcolor": "#283442",
           "linecolor": "#506784",
           "ticks": "",
           "title": {
            "standoff": 15
           },
           "zerolinecolor": "#283442",
           "zerolinewidth": 2
          }
         }
        },
        "width": 400,
        "xaxis": {
         "showticklabels": true,
         "tickfont": {
          "size": 10
         },
         "title": {},
         "visible": true
        },
        "yaxis": {
         "title": {}
        }
       }
      }
     },
     "metadata": {},
     "output_type": "display_data"
    }
   ],
   "source": [
    "import plotly.express as px\n",
    "\n",
    "df_sexo = asambleistas.groupby(['SEXO'])['SEXO'].count().reset_index(name='VALUE')\n",
    "fig_sexo = px.pie(df_sexo, values='VALUE', names='SEXO',height=400, color='SEXO', width=400, template=\"plotly_dark\",hole=.5,\n",
    "                  color_discrete_map={'FEMENINO':'rgba( 178, 90, 122 ,1)','MASCULINO':'rgba(  65, 78, 115 , 1)'}, )\n",
    "legend_type_2 = dict(title_font_family=\"Times New Roman\",font=dict(size= 10),orientation=\"h\",yanchor=\"bottom\",y=0.99,x=1,xanchor=\"right\")\n",
    "fig_sexo.update_xaxes(visible=True, showticklabels=True, tickfont_size=10)\n",
    "fig_sexo.update_layout(legend=legend_type_2, legend_title=\"\",autosize=True,yaxis_title=None,xaxis_title=None,)\n",
    "fig_sexo.show()"
   ]
  },
  {
   "cell_type": "code",
   "execution_count": null,
   "metadata": {},
   "outputs": [],
   "source": []
  }
 ],
 "metadata": {
  "kernelspec": {
   "display_name": ".venv",
   "language": "python",
   "name": "python3"
  },
  "language_info": {
   "codemirror_mode": {
    "name": "ipython",
    "version": 3
   },
   "file_extension": ".py",
   "mimetype": "text/x-python",
   "name": "python",
   "nbconvert_exporter": "python",
   "pygments_lexer": "ipython3",
   "version": "3.10.12"
  }
 },
 "nbformat": 4,
 "nbformat_minor": 2
}

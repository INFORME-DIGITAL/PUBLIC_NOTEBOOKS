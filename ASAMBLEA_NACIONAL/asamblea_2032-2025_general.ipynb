{
 "cells": [
  {
   "cell_type": "markdown",
   "metadata": {},
   "source": [
    "## Código para visualización de datos\n",
    "---\n",
    "##### Gráficos generados mediante ***[python/plotly](https://plotly.com/python/)*** \n",
    "###### Modifique para generar su *propia* visualización"
   ]
  },
  {
   "cell_type": "code",
   "execution_count": 21,
   "metadata": {},
   "outputs": [],
   "source": [
    "#pip install plotly\n",
    "#pip install pandas"
   ]
  },
  {
   "cell_type": "code",
   "execution_count": 22,
   "metadata": {},
   "outputs": [],
   "source": [
    "import pandas as pd\n",
    "\n",
    "# your path download file\n",
    "path='../../DATASETS/ASAMBLEA_NACIONAL/ASAMBLEA_NACIONAL_2023-2025/PUBLIC/ASAMBLEISTAS.csv' \n",
    "asambleistas = pd.read_csv(path, sep=';', index_col=0)"
   ]
  },
  {
   "cell_type": "code",
   "execution_count": null,
   "metadata": {},
   "outputs": [],
   "source": [
    "import plotly.express as px\n",
    "\n",
    "graph_style = \"plotly_dark\" #template plotly\n",
    "height = 500 # height plot\n",
    "angle_total = 240 # all cover plot, recomended 90 - 300\n",
    "size_marker = 28 #config by size angle_total in design\n",
    "\n",
    "df = asambleistas\n",
    "\n",
    "angle_start = (180 - angle_total)/2\n",
    "angle_end = 180 + (angle_total - 180)/2\n",
    "d_ict = df[[\"PARTIDO\", \"COLOR\"]]\n",
    "d_ict = d_ict.drop_duplicates()\n",
    "dct = dict(d_ict.values)\n",
    "fig = px.scatter_polar(\n",
    "    df,\n",
    "    r=\"radio\",\n",
    "    theta=\"tetha\",\n",
    "    color=\"PARTIDO\",\n",
    "    color_discrete_map=dct,\n",
    "    text=\"INITIAL\",\n",
    "    start_angle=angle_start,\n",
    "    custom_data=[\"NAME\", \"PARTIDO\", \"PROVINCIA\", \"SEXO\", \"EDAD\", \"ETNIA\"],\n",
    "    range_theta=[angle_start, angle_end],\n",
    "    direction=\"counterclockwise\",\n",
    ")\n",
    "fig.update_layout(\n",
    "    xaxis=dict(showgrid=False),\n",
    "    yaxis=dict(showgrid=False),\n",
    "    margin=dict(b=20, r=5, l=5, t=10),\n",
    "    height=height,\n",
    "    polar=dict(\n",
    "        radialaxis=dict(\n",
    "            showticklabels=False, ticks=\"\", linecolor=\"rgba(255, 255, 255, 0)\"\n",
    "        ),\n",
    "        angularaxis=dict(showticklabels=False, ticks=\"\", linecolor=\"rgba(0,0,0,0)\"),\n",
    "    ),\n",
    "    polar_radialaxis_gridcolor=\"rgba(0,0,0,0)\",\n",
    "    polar_angularaxis_gridcolor=\"rgba(0,0,0,0)\",\n",
    ")\n",
    "fig.update_traces(textposition=\"middle center\")\n",
    "fig.update_traces(\n",
    "    hovertemplate=\"<b>%{customdata[0]}</b><br>\"\n",
    "    + \"Partido: %{customdata[1]}<br>\"\n",
    "    + \"Provincia: %{customdata[2]}<br>\"\n",
    "    + \"Género: %{customdata[3]}<br>\"\n",
    "    + \"Edad: %{customdata[4]}<br>\"\n",
    "    + \"Etnia: %{customdata[5]}<br>\"\n",
    "    + \"<extra></extra>\",\n",
    "    textfont_size=12,\n",
    ")\n",
    "fig.update_layout(\n",
    "    template=graph_style,\n",
    "    autosize=True,\n",
    "    showlegend=False,\n",
    "    uniformtext_minsize=8,\n",
    "    uniformtext_mode=\"hide\",\n",
    "    font=dict(family=\"Arial, monospace\", size=12),\n",
    ")\n",
    "fig.update_traces(marker=dict(opacity=0.7, size=size_marker))\n",
    "fig.show()"
   ]
  },
  {
   "cell_type": "code",
   "execution_count": null,
   "metadata": {},
   "outputs": [],
   "source": [
    "import plotly.express as px\n",
    "\n",
    "margin = dict(l=20,r=20,b=0,t=40)\n",
    "df = asambleistas[['EDAD','SEXO','NAME']]\n",
    "df = df[df['EDAD'] > 0]\n",
    "fig_edad_resume = px.box(df, x=\"EDAD\",facet_row=\"SEXO\", color=\"SEXO\", points=\"all\", color_discrete_map={'FEMENINO':'rgba( 178, 90, 122 ,1)','MASCULINO':'rgba(  65, 78, 115 , 1)'}, \n",
    "          hover_data=df.columns, height=200, width=400, template=\"plotly_dark\")\n",
    "fig_edad_resume.update_layout(legend_title=\"\", autosize=True, showlegend=False,yaxis_title='',xaxis_title=None,)\n",
    "fig_edad_resume.for_each_annotation(lambda a: a.update(text=a.text.replace(\"SEXO=MASCULINO\", \"\")))\n",
    "fig_edad_resume.for_each_annotation(lambda a: a.update(text=a.text.replace(\"SEXO=FEMENINO\", \"\")))\n",
    "fig_edad_resume.show()"
   ]
  },
  {
   "cell_type": "code",
   "execution_count": null,
   "metadata": {},
   "outputs": [],
   "source": [
    "df_etnia = asambleistas.groupby(['SEXO','ETNIA'])['ETNIA'].count().reset_index(name='VALUE')\n",
    "fig_etnia = px.bar(df_etnia, x='ETNIA', y='VALUE', color='SEXO', \n",
    "                   color_discrete_map={'FEMENINO':'rgba( 178, 90, 122 ,1)','MASCULINO':'rgba(  65, 78, 115 , 1)'}, \n",
    "               custom_data=['VALUE','ETNIA','SEXO'],height=400, width=400, template=\"plotly_dark\")\n",
    "legend_type_2 = dict(title_font_family=\"Times New Roman\",font=dict(size= 10),orientation=\"h\",yanchor=\"bottom\",y=0.99,x=1,xanchor=\"right\")\n",
    "fig_etnia.update_layout(legend=legend_type_2,legend_title=\"\",autosize=True,yaxis_title=None,xaxis_title=None,)\n",
    "fig_etnia.update_xaxes(visible=True, showticklabels=True, tickfont_size=10)\n",
    "fig_etnia.show()"
   ]
  },
  {
   "cell_type": "code",
   "execution_count": null,
   "metadata": {},
   "outputs": [],
   "source": [
    "import plotly.express as px\n",
    "\n",
    "df_sexo = asambleistas.groupby(['SEXO'])['SEXO'].count().reset_index(name='VALUE')\n",
    "fig_sexo = px.pie(df_sexo, values='VALUE', names='SEXO',height=400, color='SEXO', width=400, template=\"plotly_dark\",hole=.5,\n",
    "                  color_discrete_map={'FEMENINO':'rgba( 178, 90, 122 ,1)','MASCULINO':'rgba(  65, 78, 115 , 1)'}, )\n",
    "legend_type_2 = dict(title_font_family=\"Times New Roman\",font=dict(size= 10),orientation=\"h\",yanchor=\"bottom\",y=0.99,x=1,xanchor=\"right\")\n",
    "fig_sexo.update_xaxes(visible=True, showticklabels=True, tickfont_size=10)\n",
    "fig_sexo.update_layout(legend=legend_type_2, legend_title=\"\",autosize=True,yaxis_title=None,xaxis_title=None,)\n",
    "fig_sexo.show()"
   ]
  },
  {
   "cell_type": "code",
   "execution_count": null,
   "metadata": {},
   "outputs": [],
   "source": []
  }
 ],
 "metadata": {
  "kernelspec": {
   "display_name": ".venv",
   "language": "python",
   "name": "python3"
  },
  "language_info": {
   "codemirror_mode": {
    "name": "ipython",
    "version": 3
   },
   "file_extension": ".py",
   "mimetype": "text/x-python",
   "name": "python",
   "nbconvert_exporter": "python",
   "pygments_lexer": "ipython3",
   "version": "3.10.12"
  }
 },
 "nbformat": 4,
 "nbformat_minor": 2
}

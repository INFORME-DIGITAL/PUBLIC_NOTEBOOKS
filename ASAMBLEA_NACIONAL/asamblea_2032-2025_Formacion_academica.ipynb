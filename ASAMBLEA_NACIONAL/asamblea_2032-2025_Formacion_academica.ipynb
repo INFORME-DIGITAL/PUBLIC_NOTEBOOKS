{
 "cells": [
  {
   "cell_type": "markdown",
   "metadata": {},
   "source": [
    "## Código para visualización de datos\n",
    "---\n",
    "##### Gráficos generados mediante ***[python/plotly](https://plotly.com/python/)*** \n",
    "###### Modifique para generar su *propia* visualización"
   ]
  },
  {
   "cell_type": "code",
   "execution_count": null,
   "metadata": {},
   "outputs": [],
   "source": [
    "#pip install plotly\n",
    "#pip install pandas"
   ]
  },
  {
   "cell_type": "code",
   "execution_count": 1,
   "metadata": {},
   "outputs": [],
   "source": [
    "import pandas as pd\n",
    "\n",
    "# your path download file\n",
    "path='../../DATASETS/ASAMBLEA_NACIONAL/ASAMBLEA_NACIONAL_2023-2025/PUBLIC/TITULOS_TOTAL.csv'\n",
    "titulos = pd.read_csv(path, sep=';', index_col=0)"
   ]
  },
  {
   "cell_type": "code",
   "execution_count": null,
   "metadata": {},
   "outputs": [],
   "source": [
    "import plotly.express as px\n",
    "\n",
    "total = titulos[titulos['SEXO']=='MASCULINO']\n",
    "margin = dict(l=0,r=0,b=0,t=0)\n",
    "df_M = pd.DataFrame(dict(\n",
    "    nivel= ['Asambleistas','Secundaria','Tercer Nivel','Cuarto Nivel','Ph.D'],\n",
    "    value= [len(total['NAME'].unique()),\n",
    "            len(total[total['NIVEL_NUM'].isin([2,3,4,5])]['NAME'].unique()),\n",
    "            len(total[total['NIVEL_NUM'].isin([3,4,5])]['NAME'].unique()),\n",
    "            len(total[total['NIVEL_NUM'].isin([4,5])]['NAME'].unique()),\n",
    "            len(total[total['NIVEL_NUM'] == 5]['NAME'].unique()),  ]\n",
    "))\n",
    "df_M['SEXO'] = 'Masculino'\n",
    "total = titulos[titulos['SEXO']=='FEMENINO']\n",
    "margin = dict(l=0,r=0,b=0,t=0)\n",
    "df_F = pd.DataFrame(dict(\n",
    "    nivel= ['Asambleistas','Secundaria','Tercer Nivel','Cuarto Nivel','Ph.D'],\n",
    "    value= [len(total['NAME'].unique()),\n",
    "            len(total[total['NIVEL_NUM'].isin([2,3,4,5])]['NAME'].unique()),\n",
    "            len(total[total['NIVEL_NUM'].isin([3,4,5])]['NAME'].unique()),\n",
    "            len(total[total['NIVEL_NUM'].isin([4,5])]['NAME'].unique()),\n",
    "            len(total[total['NIVEL_NUM'] == 5]['NAME'].unique()),  ]\n",
    "))\n",
    "df_F['SEXO'] = 'Femenino'\n",
    "df = pd.concat([df_M, df_F], axis=0)\n",
    "fig = px.funnel(df, x='value', y='nivel',color='SEXO',text='nivel', \n",
    "                color_discrete_map={'Femenino':'rgba( 178, 90, 122 ,1)','Masculino':'rgba(  65, 78, 115 , 1)'},\n",
    "                template='plotly_white',custom_data=['nivel','value'])\n",
    "fig.update_traces(hovertemplate='<b>%{customdata[0]}</b><br><br>%{customdata[1]} asambleistas<br><extra></extra>')\n",
    "fig.update_layout(margin=margin, showlegend=True)\n",
    "fig.update_yaxes(None, visible=False)\n",
    "fig.show()"
   ]
  },
  {
   "cell_type": "code",
   "execution_count": null,
   "metadata": {},
   "outputs": [],
   "source": [
    "import plotly.express as px\n",
    "\n",
    "df = titulos.groupby(['TITULO','NIVEL'])['TITULO'].count().reset_index(name='VALUE')\n",
    "fig = px.scatter(df, x=\"TITULO\", y=\"VALUE\",color='NIVEL')\n",
    "fig.update_xaxes(visible=False)\n",
    "fig.show()"
   ]
  },
  {
   "cell_type": "code",
   "execution_count": null,
   "metadata": {},
   "outputs": [],
   "source": [
    "import plotly.express as px\n",
    "\n",
    "df = titulos.groupby(['INSTITUCION','NIVEL'])['INSTITUCION'].count().reset_index(name='VALUE')\n",
    "fig = px.scatter(df, x='INSTITUCION', size=\"VALUE\", y=\"NIVEL\",color='NIVEL')\n",
    "fig.update_xaxes(visible=False)\n",
    "fig.show()"
   ]
  },
  {
   "cell_type": "code",
   "execution_count": null,
   "metadata": {},
   "outputs": [],
   "source": []
  }
 ],
 "metadata": {
  "kernelspec": {
   "display_name": ".venv",
   "language": "python",
   "name": "python3"
  },
  "language_info": {
   "codemirror_mode": {
    "name": "ipython",
    "version": 3
   },
   "file_extension": ".py",
   "mimetype": "text/x-python",
   "name": "python",
   "nbconvert_exporter": "python",
   "pygments_lexer": "ipython3",
   "version": "3.10.12"
  }
 },
 "nbformat": 4,
 "nbformat_minor": 2
}
